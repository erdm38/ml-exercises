{
  "cells": [
    {
      "cell_type": "code",
      "execution_count": null,
      "metadata": {
        "colab": {
          "base_uri": "https://localhost:8080/"
        },
        "id": "tyKLMfcKkaa-",
        "outputId": "76d4cd19-95e7-4321-f9c4-944e4749abde"
      },
      "outputs": [
        {
          "name": "stdout",
          "output_type": "stream",
          "text": [
            "Libraries imported successfully!\n"
          ]
        }
      ],
      "source": [
        "#Import all necessary libraries\n",
        "\n",
        "import numpy as np\n",
        "import pandas as pd\n",
        "from sklearn.ensemble import GradientBoostingRegressor, GradientBoostingClassifier\n",
        "from xgboost import XGBRegressor, XGBClassifier\n",
        "from sklearn.model_selection import GridSearchCV\n",
        "from sklearn.metrics import mean_absolute_error, accuracy_score\n",
        "from sklearn.pipeline import Pipeline\n",
        "from sklearn.compose import ColumnTransformer\n",
        "from sklearn.impute import SimpleImputer\n",
        "from sklearn.preprocessing import OneHotEncoder, StandardScaler\n",
        "import kagglehub # Import kagglehub to download datasets from Kaggle.\n",
        "\n",
        "print(\"Libraries imported successfully!\") # Print confirmation message."
      ]
    },
    {
      "cell_type": "code",
      "execution_count": null,
      "metadata": {
        "colab": {
          "base_uri": "https://localhost:8080/",
          "height": 136,
          "referenced_widgets": [
            "c62ee96730b345159156e456beaa3324",
            "79e8233af6d64d8aa5b1c02a667d456a",
            "840a385d4f184525bca8f1b99c6c5119",
            "2a72f80e5c0d4fc28785c6633f57f0ef",
            "ee5b72e36e3947c3ad507d8269c7a42b",
            "90df4fb5228643538e54aa6e6011bb80",
            "b65a037ad2c94539a7f5b3c5055c013f",
            "ec95c3ae1ea04225aad92b6911a18fdd",
            "4da6894104934ff5bb900cbe9f8964fe",
            "53936eb5ef09436ea362acce0552b368",
            "ddcf164a5230416f96a5ed22f347e550",
            "22fddd7340a948afb6d7747fb2c12d95",
            "82156c8b46b84b80b047bde36476ec79",
            "499efb4d069b4da78b6cf347a80bd2f1",
            "a1e8bada78014790a4d7b80885bddcfb",
            "67c976394bb340689bf32e438f6ff825",
            "8718a501602a460ca621e21cb283dd84",
            "0072486d2d134747a48b8ac347febf5f",
            "e202bba3d1264d9e9ddd4d680d8d659e",
            "e012d7d4e1294c88a766589d1b3c5a11",
            "54afbeb3c69d4928bc40098fe59f207c",
            "477956bf18fb45138ba109fac7f948e4",
            "51d36f531acb483f8645b850af0777fa"
          ]
        },
        "id": "D7mr7iSvja9r",
        "outputId": "46d25ecc-06da-420a-def0-e51f245b53a5"
      },
      "outputs": [
        {
          "name": "stdout",
          "output_type": "stream",
          "text": [
            "\n",
            "Logging into Kaggle Hub...\n"
          ]
        },
        {
          "data": {
            "application/vnd.jupyter.widget-view+json": {
              "model_id": "c62ee96730b345159156e456beaa3324",
              "version_major": 2,
              "version_minor": 0
            },
            "text/plain": [
              "VBox(children=(HTML(value='<center> <img\\nsrc=https://www.kaggle.com/static/images/site-logo.png\\nalt=\\'Kaggle…"
            ]
          },
          "metadata": {},
          "output_type": "display_data"
        },
        {
          "name": "stdout",
          "output_type": "stream",
          "text": [
            "Kaggle Hub login successful.\n",
            "Kaggle credentials set.\n",
            "Kaggle credentials successfully validated.\n"
          ]
        }
      ],
      "source": [
        "#Data Loading and Preparation - Iowa Housing Dataset\n",
        "#Login to Kaggle Hub to access datasets.\n",
        "print(\"\\nLogging into Kaggle Hub...\")\n",
        "kagglehub.login() # Authenticate with Kaggle.\n",
        "print(\"Kaggle Hub login successful.\")"
      ]
    },
    {
      "cell_type": "code",
      "execution_count": null,
      "metadata": {
        "colab": {
          "base_uri": "https://localhost:8080/"
        },
        "id": "ARWemSblkAvC",
        "outputId": "6d4e9574-b9b9-49a3-9d61-b3ed53d6365b"
      },
      "outputs": [
        {
          "name": "stdout",
          "output_type": "stream",
          "text": [
            "\n",
            "Downloading Iowa Housing dataset from Kaggle...\n",
            "\n",
            "Loading Iowa Housing training data...\n",
            "Iowa dataset loaded.\n",
            "Iowa dataset loaded. Preview of first 5 rows:\n",
            "   Id  MSSubClass MSZoning  LotFrontage  LotArea Street Alley LotShape  \\\n",
            "0   1          60       RL         65.0     8450   Pave   NaN      Reg   \n",
            "1   2          20       RL         80.0     9600   Pave   NaN      Reg   \n",
            "2   3          60       RL         68.0    11250   Pave   NaN      IR1   \n",
            "3   4          70       RL         60.0     9550   Pave   NaN      IR1   \n",
            "4   5          60       RL         84.0    14260   Pave   NaN      IR1   \n",
            "\n",
            "  LandContour Utilities  ... PoolArea PoolQC Fence MiscFeature MiscVal MoSold  \\\n",
            "0         Lvl    AllPub  ...        0    NaN   NaN         NaN       0      2   \n",
            "1         Lvl    AllPub  ...        0    NaN   NaN         NaN       0      5   \n",
            "2         Lvl    AllPub  ...        0    NaN   NaN         NaN       0      9   \n",
            "3         Lvl    AllPub  ...        0    NaN   NaN         NaN       0      2   \n",
            "4         Lvl    AllPub  ...        0    NaN   NaN         NaN       0     12   \n",
            "\n",
            "  YrSold  SaleType  SaleCondition  SalePrice  \n",
            "0   2008        WD         Normal     208500  \n",
            "1   2007        WD         Normal     181500  \n",
            "2   2008        WD         Normal     223500  \n",
            "3   2006        WD        Abnorml     140000  \n",
            "4   2008        WD         Normal     250000  \n",
            "\n",
            "[5 rows x 81 columns]\n"
          ]
        }
      ],
      "source": [
        "# Download Iowa Housing dataset from Kaggle.\n",
        "print(\"\\nDownloading Iowa Housing dataset from Kaggle...\")\n",
        "dansbecker_home_data_for_ml_course_path = kagglehub.dataset_download('dansbecker/home-data-for-ml-course')\n",
        "\n",
        "# Load Iowa training data.\n",
        "print(\"\\nLoading Iowa Housing training data...\")\n",
        "iowa_file_path = dansbecker_home_data_for_ml_course_path + '/train.csv' # Path to training data.\n",
        "iowa_data = pd.read_csv(iowa_file_path)\n",
        "print(\"Iowa dataset loaded.\")\n",
        "print(\"Iowa dataset loaded. Preview of first 5 rows:\")\n",
        "print(iowa_data.head())\n"
      ]
    },
    {
      "cell_type": "code",
      "execution_count": null,
      "metadata": {
        "colab": {
          "base_uri": "https://localhost:8080/"
        },
        "id": "jtwOAxBvq56M",
        "outputId": "1fa7cace-147b-436b-c78e-c795f7161fbf"
      },
      "outputs": [
        {
          "name": "stdout",
          "output_type": "stream",
          "text": [
            "Selected 13 features for Iowa dataset\n"
          ]
        }
      ],
      "source": [
        "# Define features to use for Iowa dataset\n",
        "features_to_use_iowa = ['LotArea', 'OverallQual', 'YearBuilt', 'TotalBsmtSF', 'GrLivArea',\n",
        "                        'GarageArea', 'SalePrice', 'Neighborhood', 'BldgType', 'HouseStyle',\n",
        "                        'ExterQual', 'KitchenQual', 'FireplaceQu']\n",
        "iowa_data_subset = iowa_data[features_to_use_iowa].copy()\n",
        "print(f\"Selected {len(features_to_use_iowa)} features for Iowa dataset\")"
      ]
    },
    {
      "cell_type": "code",
      "execution_count": null,
      "metadata": {
        "colab": {
          "base_uri": "https://localhost:8080/"
        },
        "id": "qJ3l66AirBSR",
        "outputId": "3d4063e2-a4e4-4b6b-dd4a-1abd8d259bb2"
      },
      "outputs": [
        {
          "name": "stdout",
          "output_type": "stream",
          "text": [
            "X shape: (1460, 12), y shape: (1460,)\n"
          ]
        }
      ],
      "source": [
        "# Define target and features\n",
        "y = iowa_data_subset['SalePrice']  # Target variable\n",
        "X = iowa_data_subset.drop('SalePrice', axis=1)  # Features\n",
        "print(f\"X shape: {X.shape}, y shape: {y.shape}\")"
      ]
    },
    {
      "cell_type": "code",
      "execution_count": null,
      "metadata": {
        "colab": {
          "base_uri": "https://localhost:8080/"
        },
        "id": "cJ3TycEdrNq9",
        "outputId": "73f392f4-63c4-49e2-c71f-34bddc2029e5"
      },
      "outputs": [
        {
          "name": "stdout",
          "output_type": "stream",
          "text": [
            "Numerical columns (6): ['LotArea', 'OverallQual', 'YearBuilt', 'TotalBsmtSF', 'GrLivArea', 'GarageArea']\n",
            "Categorical columns (6): ['Neighborhood', 'BldgType', 'HouseStyle', 'ExterQual', 'KitchenQual', 'FireplaceQu']\n"
          ]
        }
      ],
      "source": [
        "# Identify numerical and categorical\n",
        "numerical_cols_iowa = X.select_dtypes(exclude='object').columns\n",
        "categorical_cols_iowa = X.select_dtypes(include='object').columns\n",
        "print(f\"Numerical columns ({len(numerical_cols_iowa)}): {list(numerical_cols_iowa)}\")\n",
        "print(f\"Categorical columns ({len(categorical_cols_iowa)}): {list(categorical_cols_iowa)}\")"
      ]
    },
    {
      "cell_type": "code",
      "execution_count": null,
      "metadata": {
        "colab": {
          "base_uri": "https://localhost:8080/"
        },
        "id": "b7ZDimzs0JGV",
        "outputId": "2beb71bc-9afd-432d-e484-5e21367c53c1"
      },
      "outputs": [
        {
          "name": "stdout",
          "output_type": "stream",
          "text": [
            "Iowa dataset preprocessing pipeline created successfully.\n"
          ]
        }
      ],
      "source": [
        "# Data Preprocessing for Iowa Housing Dataset\n",
        "\n",
        "# Create preprocessor for Iowa dataset\n",
        "\n",
        "# Create pipeline for numerical features\n",
        "numerical_transformer_iowa = Pipeline(steps=[\n",
        "    ('imputer', SimpleImputer(strategy='median')),\n",
        "    ('scaler', StandardScaler())\n",
        "])\n",
        "\n",
        "# Create pipeline for categorical features\n",
        "categorical_transformer_iowa = Pipeline(steps=[\n",
        "    ('imputer', SimpleImputer(strategy='most_frequent')),\n",
        "    ('onehot', OneHotEncoder(handle_unknown='ignore', sparse_output=False))\n",
        "])\n",
        "\n",
        "# Combine transformers using ColumnTransformer\n",
        "preprocessor_iowa = ColumnTransformer(\n",
        "    transformers=[\n",
        "        ('num', numerical_transformer_iowa, numerical_cols_iowa),\n",
        "        ('cat', categorical_transformer_iowa, categorical_cols_iowa)\n",
        "    ])\n",
        "\n",
        "print(\"Iowa dataset preprocessing pipeline created successfully.\")"
      ]
    },
    {
      "cell_type": "markdown",
      "metadata": {
        "id": "78SmaY4S2zhs"
      },
      "source": [
        "**1.1: Gradient Boosting**"
      ]
    },
    {
      "cell_type": "markdown",
      "metadata": {
        "id": "Eo9W1D0x0ztP"
      },
      "source": [
        "1.1.a Creating pipeline with GradientBoostingRegressor"
      ]
    },
    {
      "cell_type": "code",
      "execution_count": null,
      "metadata": {
        "colab": {
          "base_uri": "https://localhost:8080/"
        },
        "id": "jo-mAWFI0hIY",
        "outputId": "6adbf59d-e4e5-498f-805f-97b36ce1ad3b"
      },
      "outputs": [
        {
          "name": "stdout",
          "output_type": "stream",
          "text": [
            "Pipeline created with GradientBoostingRegressor\n"
          ]
        }
      ],
      "source": [
        "iowa_pipeline_gbr = Pipeline(steps=[\n",
        "    ('preprocessor', preprocessor_iowa),\n",
        "    ('model', GradientBoostingRegressor(random_state=0))\n",
        "])\n",
        "print(\"Pipeline created with GradientBoostingRegressor\")"
      ]
    },
    {
      "cell_type": "markdown",
      "metadata": {
        "id": "z3RgFT1f1EiU"
      },
      "source": [
        "1.1.b: Use GridSearchCV to find best hyperparameters"
      ]
    },
    {
      "cell_type": "code",
      "execution_count": null,
      "metadata": {
        "colab": {
          "base_uri": "https://localhost:8080/"
        },
        "id": "Bh60deer09iR",
        "outputId": "4c1e67b1-4110-405a-e749-eb9ff8bf3228"
      },
      "outputs": [
        {
          "name": "stdout",
          "output_type": "stream",
          "text": [
            "Defining hyperparameter grid...\n",
            "Creating GridSearchCV object...\n",
            "GridSearchCV fitting completed!\n"
          ]
        }
      ],
      "source": [
        "print(\"Defining hyperparameter grid...\")\n",
        "param_grid_gbr = {\n",
        "    'model__n_estimators': [50, 100, 200],\n",
        "    'model__learning_rate': [0.01, 0.1, 0.2],\n",
        "    'model__max_depth': [3, 5, 7]\n",
        "}\n",
        "\n",
        "print(\"Creating GridSearchCV object...\")\n",
        "grid_search_gbr = GridSearchCV(\n",
        "    iowa_pipeline_gbr,\n",
        "    param_grid_gbr,\n",
        "    cv=5,\n",
        "    scoring='neg_mean_absolute_error',\n",
        "    n_jobs=-1\n",
        ")\n",
        "\n",
        "# Fit the GridSearchCV object to the data\n",
        "grid_search_gbr.fit(X, y)\n",
        "print(\"GridSearchCV fitting completed!\")"
      ]
    },
    {
      "cell_type": "markdown",
      "metadata": {
        "id": "N3CQgW5A12f4"
      },
      "source": [
        "1.1.c: Print best hyperparameters and MAE score"
      ]
    },
    {
      "cell_type": "code",
      "execution_count": null,
      "metadata": {
        "colab": {
          "base_uri": "https://localhost:8080/"
        },
        "id": "mQrhBvsn1us_",
        "outputId": "875d8ee2-fa75-4bef-c221-2db264b52e17"
      },
      "outputs": [
        {
          "name": "stdout",
          "output_type": "stream",
          "text": [
            "Best GradientBoostingRegressor results:\n",
            "Best parameters: {'model__learning_rate': 0.2, 'model__max_depth': 3, 'model__n_estimators': 100}\n",
            "Best negative MAE score: -17899.668973366846\n",
            "Best MAE score: 17899.668973366846\n"
          ]
        }
      ],
      "source": [
        "print(\"Best GradientBoostingRegressor results:\")\n",
        "print(f\"Best parameters: {grid_search_gbr.best_params_}\")\n",
        "print(f\"Best negative MAE score: {grid_search_gbr.best_score_}\")\n",
        "print(f\"Best MAE score: {-grid_search_gbr.best_score_}\")\n",
        "best_gbr_mae = -grid_search_gbr.best_score_"
      ]
    },
    {
      "cell_type": "markdown",
      "metadata": {
        "id": "w_FPD1X52KE1"
      },
      "source": [
        "**1.2: XGBoost**"
      ]
    },
    {
      "cell_type": "markdown",
      "metadata": {
        "id": "6p7dqbuq2PBF"
      },
      "source": [
        "1.2.a: Create pipeline with XGBRegressor"
      ]
    },
    {
      "cell_type": "code",
      "execution_count": null,
      "metadata": {
        "colab": {
          "base_uri": "https://localhost:8080/"
        },
        "id": "CUzKij8j2AEp",
        "outputId": "e829c77d-7520-4aed-9b5f-dac6e1b5d411"
      },
      "outputs": [
        {
          "name": "stdout",
          "output_type": "stream",
          "text": [
            "Pipeline created with XGBRegressor\n"
          ]
        }
      ],
      "source": [
        "iowa_pipeline_xgb = Pipeline(steps=[\n",
        "    ('preprocessor', preprocessor_iowa),\n",
        "    ('model', XGBRegressor(random_state=0))\n",
        "])\n",
        "print(\"Pipeline created with XGBRegressor\")"
      ]
    },
    {
      "cell_type": "markdown",
      "metadata": {
        "id": "DT1TpQ-N2WQv"
      },
      "source": [
        "1.2.b: Use GridSearchCV to find best hyperparameters"
      ]
    },
    {
      "cell_type": "code",
      "execution_count": null,
      "metadata": {
        "colab": {
          "base_uri": "https://localhost:8080/"
        },
        "id": "0QVacWMk2VMc",
        "outputId": "bcb98b51-7ddd-42aa-b76c-6a312ccc8f7e"
      },
      "outputs": [
        {
          "name": "stdout",
          "output_type": "stream",
          "text": [
            "Defining hyperparameter grid...\n",
            "Creating GridSearchCV object...\n",
            "GridSearchCV fitting completed!\n"
          ]
        }
      ],
      "source": [
        "print(\"Defining hyperparameter grid...\")\n",
        "param_grid_xgb = {\n",
        "    'model__n_estimators': [50, 100, 200],\n",
        "    'model__learning_rate': [0.01, 0.1, 0.2],\n",
        "    'model__max_depth': [3, 5, 7]\n",
        "}\n",
        "\n",
        "print(\"Creating GridSearchCV object...\")\n",
        "grid_search_xgb = GridSearchCV(\n",
        "    iowa_pipeline_xgb,\n",
        "    param_grid_xgb,\n",
        "    cv=5,\n",
        "    scoring='neg_mean_absolute_error',\n",
        "    n_jobs=-1\n",
        ")\n",
        "\n",
        "# Fit the GridSearchCV object to the data\n",
        "grid_search_xgb.fit(X, y)\n",
        "print(\"GridSearchCV fitting completed!\")"
      ]
    },
    {
      "cell_type": "markdown",
      "metadata": {
        "id": "bP_X8nHz2eH8"
      },
      "source": [
        "1.2.c: Print best hyperparameters and MAE score"
      ]
    },
    {
      "cell_type": "code",
      "execution_count": null,
      "metadata": {
        "colab": {
          "base_uri": "https://localhost:8080/"
        },
        "id": "bIct8KQI2dl-",
        "outputId": "ba82c796-dbaf-4b47-9f40-0c45d97dbaf4"
      },
      "outputs": [
        {
          "name": "stdout",
          "output_type": "stream",
          "text": [
            "Best XGBRegressor results:\n",
            "Best parameters: {'model__learning_rate': 0.1, 'model__max_depth': 3, 'model__n_estimators': 200}\n",
            "Best negative MAE score: -18310.4111328125\n",
            "Best MAE score: 18310.4111328125\n"
          ]
        }
      ],
      "source": [
        "print(\"Best XGBRegressor results:\")\n",
        "print(f\"Best parameters: {grid_search_xgb.best_params_}\")\n",
        "print(f\"Best negative MAE score: {grid_search_xgb.best_score_}\")\n",
        "print(f\"Best MAE score: {-grid_search_xgb.best_score_}\")\n",
        "best_xgb_mae = -grid_search_xgb.best_score_"
      ]
    },
    {
      "cell_type": "markdown",
      "metadata": {
        "id": "1qAvn3mZ2r-B"
      },
      "source": [
        "**1.3: Comparison**"
      ]
    },
    {
      "cell_type": "code",
      "execution_count": null,
      "metadata": {
        "colab": {
          "base_uri": "https://localhost:8080/"
        },
        "id": "lkz6kzjo2pPt",
        "outputId": "75e61c20-6aae-4fdf-e94d-6f0e565caeed"
      },
      "outputs": [
        {
          "name": "stdout",
          "output_type": "stream",
          "text": [
            "GradientBoostingRegressor MAE: 17899.668973366846\n",
            "XGBRegressor MAE: 18310.4111328125\n"
          ]
        }
      ],
      "source": [
        "print(f\"GradientBoostingRegressor MAE: {best_gbr_mae}\")\n",
        "print(f\"XGBRegressor MAE: {best_xgb_mae}\")"
      ]
    },
    {
      "cell_type": "markdown",
      "metadata": {
        "id": "tm_lbKpe3I5h"
      },
      "source": [
        "GradientBoostingRegressor performed better (lower MAE)."
      ]
    },
    {
      "cell_type": "markdown",
      "metadata": {
        "id": "lwWm1vRO3Y3w"
      },
      "source": [
        "**Gradient Boosting**\n",
        "\n",
        "Gradient Boosting generally makes better predictions than a single decision tree, so it’s less likely to overfit. It works well with mixed data types (numbers and categories) and can handle missing values. You can also see which features matter most, which helps interpret the results. On the downside, it can be slow on large datasets, needs careful tuning of its settings, and isn’t as fast as XGBoost.\n",
        "\n",
        "**XGBoost**\n",
        "\n",
        "XGBoost is a faster, more scalable version of gradient boosting. It has built-in regularization to reduce overfitting, handles sparse data efficiently, and uses multiple cores to speed up training. However, if you don’t tune it properly, it can still overfit. It also may use more memory on big datasets, and its many parameters can feel overwhelming at first."
      ]
    },
    {
      "cell_type": "markdown",
      "metadata": {
        "id": "ejeCaO9OztbE"
      },
      "source": [
        "# Exercise 2: Adult Dataset - Gradient Boosting and XGBoost"
      ]
    },
    {
      "cell_type": "code",
      "execution_count": 12,
      "metadata": {
        "id": "gh3yHryGzrSX"
      },
      "outputs": [],
      "source": [
        "# Load Adult Dataset (UCI Adult Income dataset)\n",
        "\n",
        "# Download the Adult dataset\n",
        "adult_data_url = \"https://archive.ics.uci.edu/ml/machine-learning-databases/adult/adult.data\"\n",
        "column_names_adult = [\"age\", \"workclass\", \"fnlwgt\", \"education\", \"education-num\", \"marital-status\",\n",
        "                      \"occupation\", \"relationship\", \"race\", \"sex\", \"capital-gain\", \"capital-loss\",\n",
        "                      \"hours-per-week\", \"native-country\", \"income\"]"
      ]
    },
    {
      "cell_type": "code",
      "execution_count": 13,
      "metadata": {
        "colab": {
          "base_uri": "https://localhost:8080/"
        },
        "id": "WyyvVss_z7GV",
        "outputId": "acb29db3-bf2b-45ab-e876-2130f9b369ea"
      },
      "outputs": [
        {
          "name": "stdout",
          "output_type": "stream",
          "text": [
            "Adult dataset loaded. Preview of first 5 rows:\n",
            "   age         workclass  fnlwgt  education  education-num  \\\n",
            "0   39         State-gov   77516  Bachelors             13   \n",
            "1   50  Self-emp-not-inc   83311  Bachelors             13   \n",
            "2   38           Private  215646    HS-grad              9   \n",
            "3   53           Private  234721       11th              7   \n",
            "4   28           Private  338409  Bachelors             13   \n",
            "\n",
            "       marital-status         occupation   relationship   race     sex  \\\n",
            "0       Never-married       Adm-clerical  Not-in-family  White    Male   \n",
            "1  Married-civ-spouse    Exec-managerial        Husband  White    Male   \n",
            "2            Divorced  Handlers-cleaners  Not-in-family  White    Male   \n",
            "3  Married-civ-spouse  Handlers-cleaners        Husband  Black    Male   \n",
            "4  Married-civ-spouse     Prof-specialty           Wife  Black  Female   \n",
            "\n",
            "   capital-gain  capital-loss  hours-per-week native-country income  \n",
            "0          2174             0              40  United-States  <=50K  \n",
            "1             0             0              13  United-States  <=50K  \n",
            "2             0             0              40  United-States  <=50K  \n",
            "3             0             0              40  United-States  <=50K  \n",
            "4             0             0              40           Cuba  <=50K  \n"
          ]
        }
      ],
      "source": [
        "# Load the Adult dataset\n",
        "adult_data = pd.read_csv(adult_data_url, names=column_names_adult, na_values=\"?\", skipinitialspace=True)\n",
        "print(\"Adult dataset loaded. Preview of first 5 rows:\")\n",
        "print(adult_data.head())"
      ]
    },
    {
      "cell_type": "code",
      "execution_count": 14,
      "metadata": {
        "colab": {
          "base_uri": "https://localhost:8080/"
        },
        "id": "LKNQBo8_0EOJ",
        "outputId": "61b1440f-3e59-478d-af0d-eb92b3428abc"
      },
      "outputs": [
        {
          "name": "stdout",
          "output_type": "stream",
          "text": [
            "X_adult shape: (32561, 14), y_adult shape: (32561,)\n"
          ]
        }
      ],
      "source": [
        "# Define features and target for Adult dataset\n",
        "X_adult = adult_data.drop('income', axis=1)  # Features\n",
        "y_adult = adult_data['income']  # Target variable\n",
        "print(f\"X_adult shape: {X_adult.shape}, y_adult shape: {y_adult.shape}\")"
      ]
    },
    {
      "cell_type": "code",
      "execution_count": 15,
      "metadata": {
        "colab": {
          "base_uri": "https://localhost:8080/"
        },
        "id": "e810wHgG0GnX",
        "outputId": "439185be-f60c-41f0-9609-8023271ea607"
      },
      "outputs": [
        {
          "name": "stdout",
          "output_type": "stream",
          "text": [
            "Numerical columns (6): ['age', 'fnlwgt', 'education-num', 'capital-gain', 'capital-loss', 'hours-per-week']\n",
            "Categorical columns (8): ['workclass', 'education', 'marital-status', 'occupation', 'relationship', 'race', 'sex', 'native-country']\n"
          ]
        }
      ],
      "source": [
        "# Identify numerical and categorical columns\n",
        "numerical_cols_adult = X_adult.select_dtypes(exclude='object').columns\n",
        "categorical_cols_adult = X_adult.select_dtypes(include='object').columns\n",
        "print(f\"Numerical columns ({len(numerical_cols_adult)}): {list(numerical_cols_adult)}\")\n",
        "print(f\"Categorical columns ({len(categorical_cols_adult)}): {list(categorical_cols_adult)}\")"
      ]
    },
    {
      "cell_type": "code",
      "execution_count": 16,
      "metadata": {
        "colab": {
          "base_uri": "https://localhost:8080/"
        },
        "id": "TWaMvSZf0ZKt",
        "outputId": "f770f5f3-6070-4358-cf9f-22eacaca4365"
      },
      "outputs": [
        {
          "name": "stdout",
          "output_type": "stream",
          "text": [
            "Adult dataset preprocessing pipeline created successfully.\n"
          ]
        }
      ],
      "source": [
        "# Data Preprocessing for Adult Dataset\n",
        "\n",
        "# Create preprocessor for Adult dataset\n",
        "\n",
        "# Create pipeline for numerical features\n",
        "numerical_transformer_adult = Pipeline(steps=[\n",
        "    ('imputer', SimpleImputer(strategy='median')),\n",
        "    ('scaler', StandardScaler())\n",
        "])\n",
        "\n",
        "# Create pipeline for categorical features\n",
        "categorical_transformer_adult = Pipeline(steps=[\n",
        "    ('imputer', SimpleImputer(strategy='most_frequent')),\n",
        "    ('onehot', OneHotEncoder(handle_unknown='ignore', sparse_output=False))\n",
        "])\n",
        "\n",
        "# Combine transformers using ColumnTransformer\n",
        "preprocessor_adult = ColumnTransformer(\n",
        "    transformers=[\n",
        "        ('num', numerical_transformer_adult, numerical_cols_adult),\n",
        "        ('cat', categorical_transformer_adult, categorical_cols_adult)\n",
        "    ])\n",
        "\n",
        "print(\"Adult dataset preprocessing pipeline created successfully.\")"
      ]
    },
    {
      "cell_type": "code",
      "execution_count": 17,
      "metadata": {
        "colab": {
          "base_uri": "https://localhost:8080/"
        },
        "id": "Gkk2s3fx5ZDd",
        "outputId": "a96ec537-46e6-42d7-f35d-3c898205709d"
      },
      "outputs": [
        {
          "name": "stdout",
          "output_type": "stream",
          "text": [
            "Checking and preparing the target variable for Adult dataset...\n",
            "Original target values: ['<=50K' '>50K']\n",
            "Encoded target values: [0 1]\n"
          ]
        }
      ],
      "source": [
        "print(\"Checking and preparing the target variable for Adult dataset...\")\n",
        "print(f\"Original target values: {y_adult.unique()}\")\n",
        "y_adult_encoded = y_adult.map({'<=50K': 0, '>50K': 1})\n",
        "print(f\"Encoded target values: {y_adult_encoded.unique()}\")"
      ]
    },
    {
      "cell_type": "markdown",
      "metadata": {
        "id": "l-0pdZY3OuZ0"
      },
      "source": [
        "**2.1: Gradient Boosting**"
      ]
    },
    {
      "cell_type": "markdown",
      "metadata": {
        "id": "PhRv-e-oNviw"
      },
      "source": [
        "2.1.a: Create pipeline with GradientBoostingClassifier"
      ]
    },
    {
      "cell_type": "code",
      "execution_count": 18,
      "metadata": {
        "colab": {
          "base_uri": "https://localhost:8080/"
        },
        "id": "lRH2a_d2NqHN",
        "outputId": "50b14661-ac47-4f9c-892f-80a704ba0d77"
      },
      "outputs": [
        {
          "name": "stdout",
          "output_type": "stream",
          "text": [
            "Pipeline created with GradientBoostingClassifier\n"
          ]
        }
      ],
      "source": [
        "adult_pipeline_gbc = Pipeline(steps=[\n",
        "    ('preprocessor', preprocessor_adult),\n",
        "    ('model', GradientBoostingClassifier(random_state=0))\n",
        "])\n",
        "print(\"Pipeline created with GradientBoostingClassifier\")"
      ]
    },
    {
      "cell_type": "markdown",
      "metadata": {
        "id": "bkqFUpNUOUTf"
      },
      "source": [
        "2.1.b: Use GridSearchCV to find best hyperparameters"
      ]
    },
    {
      "cell_type": "code",
      "execution_count": null,
      "metadata": {
        "colab": {
          "base_uri": "https://localhost:8080/"
        },
        "id": "wwvxL9g1OFHX",
        "outputId": "76ddd411-3f60-4f7a-8b7f-c05452f8b975"
      },
      "outputs": [
        {
          "name": "stdout",
          "output_type": "stream",
          "text": [
            "Defining hyperparameter grid...\n",
            "Creating GridSearchCV object...\n"
          ]
        }
      ],
      "source": [
        "print(\"Defining hyperparameter grid...\")\n",
        "param_grid_gbc = {\n",
        "    'model__n_estimators': [50, 100, 200],\n",
        "    'model__learning_rate': [0.01, 0.1, 0.2],\n",
        "    'model__max_depth': [3, 5, 7]\n",
        "}\n",
        "\n",
        "print(\"Creating GridSearchCV object...\")\n",
        "grid_search_gbc = GridSearchCV(\n",
        "    adult_pipeline_gbc,\n",
        "    param_grid_gbc,\n",
        "    cv=5,\n",
        "    scoring='accuracy',\n",
        "    n_jobs=-1\n",
        ")\n",
        "\n",
        "# Fit the GridSearchCV object to the data\n",
        "grid_search_gbc.fit(X_adult, y_adult)\n",
        "print(\"GridSearchCV fitting completed!\")"
      ]
    },
    {
      "cell_type": "markdown",
      "metadata": {
        "id": "W4cfssaiOzxQ"
      },
      "source": [
        "2.1.c: Print best hyperparameters and accuracy score"
      ]
    },
    {
      "cell_type": "code",
      "execution_count": null,
      "metadata": {
        "id": "zBM-C1STOwdA"
      },
      "outputs": [],
      "source": [
        "print(f\"Best parameters: {grid_search_gbc.best_params_}\")\n",
        "print(f\"Best accuracy score: {grid_search_gbc.best_score_}\")\n",
        "best_gbc_accuracy = grid_search_gbc.best_score_"
      ]
    },
    {
      "cell_type": "markdown",
      "metadata": {
        "id": "xeROnDW5PBPr"
      },
      "source": [
        "**2.2: XGBoost**"
      ]
    },
    {
      "cell_type": "markdown",
      "metadata": {
        "id": "nFmOADQxPHt4"
      },
      "source": [
        "2.2.a: Create pipeline with XGBClassifier"
      ]
    },
    {
      "cell_type": "code",
      "execution_count": null,
      "metadata": {
        "id": "tyQQUV_nPFkU"
      },
      "outputs": [],
      "source": [
        "adult_pipeline_xgbc = Pipeline(steps=[\n",
        "    ('preprocessor', preprocessor_adult),\n",
        "    ('model', XGBClassifier(random_state=0))\n",
        "])\n",
        "print(\"Pipeline created with XGBClassifier\")"
      ]
    },
    {
      "cell_type": "markdown",
      "metadata": {
        "id": "Q0wDnLDjPLTN"
      },
      "source": [
        "2.2.b: Use GridSearchCV to find best hyperparameters"
      ]
    },
    {
      "cell_type": "code",
      "execution_count": null,
      "metadata": {
        "id": "lVmiN13OPKsL"
      },
      "outputs": [],
      "source": [
        "print(\"Defining hyperparameter grid...\")\n",
        "param_grid_xgbc = {\n",
        "    'model__n_estimators': [50, 100, 200],\n",
        "    'model__learning_rate': [0.01, 0.1, 0.2],\n",
        "    'model__max_depth': [3, 5, 7]\n",
        "}\n",
        "\n",
        "print(\"Creating GridSearchCV object...\")\n",
        "grid_search_xgbc = GridSearchCV(\n",
        "    adult_pipeline_xgbc,\n",
        "    param_grid_xgbc,\n",
        "    cv=5,\n",
        "    scoring='accuracy',\n",
        "    n_jobs=-1\n",
        ")\n",
        "\n",
        "# Fit the GridSearchCV object to the data\n",
        "# XGBoost requires numerical targets\n",
        "grid_search_xgbc.fit(X_adult, y_adult_encoded)\n",
        "print(\"GridSearchCV fitting completed!\")"
      ]
    },
    {
      "cell_type": "markdown",
      "metadata": {
        "id": "8wh9Rkd0PVzu"
      },
      "source": [
        "2.2.c: Print best hyperparameters and accuracy score"
      ]
    },
    {
      "cell_type": "code",
      "execution_count": null,
      "metadata": {
        "id": "Kr_ckNtyPU51"
      },
      "outputs": [],
      "source": [
        "print(f\"Best parameters: {grid_search_xgbc.best_params_}\")\n",
        "print(f\"Best accuracy score: {grid_search_xgbc.best_score_}\")\n",
        "best_xgbc_accuracy = grid_search_xgbc.best_score_"
      ]
    },
    {
      "cell_type": "markdown",
      "metadata": {
        "id": "3P9bD12ePY1j"
      },
      "source": [
        "**2.3: Comparison**"
      ]
    },
    {
      "cell_type": "markdown",
      "metadata": {
        "id": "DLvmfiCQPcT6"
      },
      "source": [
        "2.3.a: Compare performance"
      ]
    },
    {
      "cell_type": "code",
      "execution_count": null,
      "metadata": {
        "id": "mW_IfNkCPb-d"
      },
      "outputs": [],
      "source": [
        "print(\"Comparing performance of GradientBoostingClassifier and XGBClassifier:\")\n",
        "print(f\"GradientBoostingClassifier accuracy: {best_gbc_accuracy}\")\n",
        "print(f\"XGBClassifier accuracy: {best_xgbc_accuracy}\")"
      ]
    },
    {
      "cell_type": "markdown",
      "metadata": {
        "id": "MmjXQTmiamLy"
      },
      "source": [
        "XGBClassifier performed better (higher accuracy)."
      ]
    },
    {
      "cell_type": "markdown",
      "metadata": {
        "id": "KQw6FUeJPxqj"
      },
      "source": [
        "2.3.b: Discuss advantages and disadvantages\n"
      ]
    },
    {
      "cell_type": "markdown",
      "metadata": {
        "id": "_TAEgB0EatYa"
      },
      "source": [
        "The GradientBoostingClassifier demonstrates several positive aspects. The model shows strong resistance to overfitting while  performing effectively across various data types. The model demonstrates strong performance when applied to datasets of moderate size.  The scikit-learn framework facilitates convenient tool integration for this classifier.\n",
        "\n",
        "The algorithm comes with its own set of  limitations. The execution time of this algorithm exceeds XGBoost especially when handling extensive datasets. The implementation of  GradientBoostingClassifier does not optimize memory resources or processing time efficiency. The algorithm operates sequentially which makes parallel  execution more difficult.\n",
        "\n",
        "XGBoost stands out for its quicker training and prediction speed because of its parallel  processing features. The model shows better efficiency in memory usage which enables it to work with massive datasets. The  model includes default regularization settings which help avoid overfitting. The algorithm frequently outperforms others while  requiring only limited parameter adjustments.\n",
        "\n",
        "XGBoost demonstrates its own set of limitations during implementation. The algorithm  presents higher complexity levels for beginners in terms of both learning and practical implementation. The absence of scikit- learn framework results in creating an additional software dependency. The tool might prove excessive when used with datasets that  are relatively small.\n",
        "\n",
        "Both algorithms work effectively for classification tasks yet XGBoost demonstrates superior performance and efficiency  at the expense of added complexity. GradientBoosting shows better tool integration with scikit-learn and tends  to be more user-friendly for those who already know the framework."
      ]
    }
  ],
  "metadata": {
    "colab": {
      "provenance": []
    },
    "kernelspec": {
      "display_name": "Python 3",
      "name": "python3"
    },
    "language_info": {
      "name": "python"
    },
    "widgets": {
      "application/vnd.jupyter.widget-state+json": {
        "0072486d2d134747a48b8ac347febf5f": {
          "model_module": "@jupyter-widgets/controls",
          "model_module_version": "1.5.0",
          "model_name": "LabelModel",
          "state": {
            "_dom_classes": [],
            "_model_module": "@jupyter-widgets/controls",
            "_model_module_version": "1.5.0",
            "_model_name": "LabelModel",
            "_view_count": null,
            "_view_module": "@jupyter-widgets/controls",
            "_view_module_version": "1.5.0",
            "_view_name": "LabelView",
            "description": "",
            "description_tooltip": null,
            "layout": "IPY_MODEL_e202bba3d1264d9e9ddd4d680d8d659e",
            "placeholder": "​",
            "style": "IPY_MODEL_e012d7d4e1294c88a766589d1b3c5a11",
            "value": "Connecting..."
          }
        },
        "22fddd7340a948afb6d7747fb2c12d95": {
          "model_module": "@jupyter-widgets/base",
          "model_module_version": "1.2.0",
          "model_name": "LayoutModel",
          "state": {
            "_model_module": "@jupyter-widgets/base",
            "_model_module_version": "1.2.0",
            "_model_name": "LayoutModel",
            "_view_count": null,
            "_view_module": "@jupyter-widgets/base",
            "_view_module_version": "1.2.0",
            "_view_name": "LayoutView",
            "align_content": null,
            "align_items": null,
            "align_self": null,
            "border": null,
            "bottom": null,
            "display": null,
            "flex": null,
            "flex_flow": null,
            "grid_area": null,
            "grid_auto_columns": null,
            "grid_auto_flow": null,
            "grid_auto_rows": null,
            "grid_column": null,
            "grid_gap": null,
            "grid_row": null,
            "grid_template_areas": null,
            "grid_template_columns": null,
            "grid_template_rows": null,
            "height": null,
            "justify_content": null,
            "justify_items": null,
            "left": null,
            "margin": null,
            "max_height": null,
            "max_width": null,
            "min_height": null,
            "min_width": null,
            "object_fit": null,
            "object_position": null,
            "order": null,
            "overflow": null,
            "overflow_x": null,
            "overflow_y": null,
            "padding": null,
            "right": null,
            "top": null,
            "visibility": null,
            "width": null
          }
        },
        "2a72f80e5c0d4fc28785c6633f57f0ef": {
          "model_module": "@jupyter-widgets/controls",
          "model_module_version": "1.5.0",
          "model_name": "PasswordModel",
          "state": {
            "_dom_classes": [],
            "_model_module": "@jupyter-widgets/controls",
            "_model_module_version": "1.5.0",
            "_model_name": "PasswordModel",
            "_view_count": null,
            "_view_module": "@jupyter-widgets/controls",
            "_view_module_version": "1.5.0",
            "_view_name": "PasswordView",
            "continuous_update": true,
            "description": "Token:",
            "description_tooltip": null,
            "disabled": false,
            "layout": "IPY_MODEL_22fddd7340a948afb6d7747fb2c12d95",
            "placeholder": "​",
            "style": "IPY_MODEL_82156c8b46b84b80b047bde36476ec79",
            "value": ""
          }
        },
        "477956bf18fb45138ba109fac7f948e4": {
          "model_module": "@jupyter-widgets/base",
          "model_module_version": "1.2.0",
          "model_name": "LayoutModel",
          "state": {
            "_model_module": "@jupyter-widgets/base",
            "_model_module_version": "1.2.0",
            "_model_name": "LayoutModel",
            "_view_count": null,
            "_view_module": "@jupyter-widgets/base",
            "_view_module_version": "1.2.0",
            "_view_name": "LayoutView",
            "align_content": null,
            "align_items": null,
            "align_self": null,
            "border": null,
            "bottom": null,
            "display": null,
            "flex": null,
            "flex_flow": null,
            "grid_area": null,
            "grid_auto_columns": null,
            "grid_auto_flow": null,
            "grid_auto_rows": null,
            "grid_column": null,
            "grid_gap": null,
            "grid_row": null,
            "grid_template_areas": null,
            "grid_template_columns": null,
            "grid_template_rows": null,
            "height": null,
            "justify_content": null,
            "justify_items": null,
            "left": null,
            "margin": null,
            "max_height": null,
            "max_width": null,
            "min_height": null,
            "min_width": null,
            "object_fit": null,
            "object_position": null,
            "order": null,
            "overflow": null,
            "overflow_x": null,
            "overflow_y": null,
            "padding": null,
            "right": null,
            "top": null,
            "visibility": null,
            "width": null
          }
        },
        "499efb4d069b4da78b6cf347a80bd2f1": {
          "model_module": "@jupyter-widgets/base",
          "model_module_version": "1.2.0",
          "model_name": "LayoutModel",
          "state": {
            "_model_module": "@jupyter-widgets/base",
            "_model_module_version": "1.2.0",
            "_model_name": "LayoutModel",
            "_view_count": null,
            "_view_module": "@jupyter-widgets/base",
            "_view_module_version": "1.2.0",
            "_view_name": "LayoutView",
            "align_content": null,
            "align_items": null,
            "align_self": null,
            "border": null,
            "bottom": null,
            "display": null,
            "flex": null,
            "flex_flow": null,
            "grid_area": null,
            "grid_auto_columns": null,
            "grid_auto_flow": null,
            "grid_auto_rows": null,
            "grid_column": null,
            "grid_gap": null,
            "grid_row": null,
            "grid_template_areas": null,
            "grid_template_columns": null,
            "grid_template_rows": null,
            "height": null,
            "justify_content": null,
            "justify_items": null,
            "left": null,
            "margin": null,
            "max_height": null,
            "max_width": null,
            "min_height": null,
            "min_width": null,
            "object_fit": null,
            "object_position": null,
            "order": null,
            "overflow": null,
            "overflow_x": null,
            "overflow_y": null,
            "padding": null,
            "right": null,
            "top": null,
            "visibility": null,
            "width": null
          }
        },
        "4da6894104934ff5bb900cbe9f8964fe": {
          "model_module": "@jupyter-widgets/controls",
          "model_module_version": "1.5.0",
          "model_name": "DescriptionStyleModel",
          "state": {
            "_model_module": "@jupyter-widgets/controls",
            "_model_module_version": "1.5.0",
            "_model_name": "DescriptionStyleModel",
            "_view_count": null,
            "_view_module": "@jupyter-widgets/base",
            "_view_module_version": "1.2.0",
            "_view_name": "StyleView",
            "description_width": ""
          }
        },
        "51d36f531acb483f8645b850af0777fa": {
          "model_module": "@jupyter-widgets/controls",
          "model_module_version": "1.5.0",
          "model_name": "DescriptionStyleModel",
          "state": {
            "_model_module": "@jupyter-widgets/controls",
            "_model_module_version": "1.5.0",
            "_model_name": "DescriptionStyleModel",
            "_view_count": null,
            "_view_module": "@jupyter-widgets/base",
            "_view_module_version": "1.2.0",
            "_view_name": "StyleView",
            "description_width": ""
          }
        },
        "53936eb5ef09436ea362acce0552b368": {
          "model_module": "@jupyter-widgets/base",
          "model_module_version": "1.2.0",
          "model_name": "LayoutModel",
          "state": {
            "_model_module": "@jupyter-widgets/base",
            "_model_module_version": "1.2.0",
            "_model_name": "LayoutModel",
            "_view_count": null,
            "_view_module": "@jupyter-widgets/base",
            "_view_module_version": "1.2.0",
            "_view_name": "LayoutView",
            "align_content": null,
            "align_items": null,
            "align_self": null,
            "border": null,
            "bottom": null,
            "display": null,
            "flex": null,
            "flex_flow": null,
            "grid_area": null,
            "grid_auto_columns": null,
            "grid_auto_flow": null,
            "grid_auto_rows": null,
            "grid_column": null,
            "grid_gap": null,
            "grid_row": null,
            "grid_template_areas": null,
            "grid_template_columns": null,
            "grid_template_rows": null,
            "height": null,
            "justify_content": null,
            "justify_items": null,
            "left": null,
            "margin": null,
            "max_height": null,
            "max_width": null,
            "min_height": null,
            "min_width": null,
            "object_fit": null,
            "object_position": null,
            "order": null,
            "overflow": null,
            "overflow_x": null,
            "overflow_y": null,
            "padding": null,
            "right": null,
            "top": null,
            "visibility": null,
            "width": null
          }
        },
        "54afbeb3c69d4928bc40098fe59f207c": {
          "model_module": "@jupyter-widgets/controls",
          "model_module_version": "1.5.0",
          "model_name": "LabelModel",
          "state": {
            "_dom_classes": [],
            "_model_module": "@jupyter-widgets/controls",
            "_model_module_version": "1.5.0",
            "_model_name": "LabelModel",
            "_view_count": null,
            "_view_module": "@jupyter-widgets/controls",
            "_view_module_version": "1.5.0",
            "_view_name": "LabelView",
            "description": "",
            "description_tooltip": null,
            "layout": "IPY_MODEL_477956bf18fb45138ba109fac7f948e4",
            "placeholder": "​",
            "style": "IPY_MODEL_51d36f531acb483f8645b850af0777fa",
            "value": "Kaggle credentials successfully validated."
          }
        },
        "67c976394bb340689bf32e438f6ff825": {
          "model_module": "@jupyter-widgets/base",
          "model_module_version": "1.2.0",
          "model_name": "LayoutModel",
          "state": {
            "_model_module": "@jupyter-widgets/base",
            "_model_module_version": "1.2.0",
            "_model_name": "LayoutModel",
            "_view_count": null,
            "_view_module": "@jupyter-widgets/base",
            "_view_module_version": "1.2.0",
            "_view_name": "LayoutView",
            "align_content": null,
            "align_items": null,
            "align_self": null,
            "border": null,
            "bottom": null,
            "display": null,
            "flex": null,
            "flex_flow": null,
            "grid_area": null,
            "grid_auto_columns": null,
            "grid_auto_flow": null,
            "grid_auto_rows": null,
            "grid_column": null,
            "grid_gap": null,
            "grid_row": null,
            "grid_template_areas": null,
            "grid_template_columns": null,
            "grid_template_rows": null,
            "height": null,
            "justify_content": null,
            "justify_items": null,
            "left": null,
            "margin": null,
            "max_height": null,
            "max_width": null,
            "min_height": null,
            "min_width": null,
            "object_fit": null,
            "object_position": null,
            "order": null,
            "overflow": null,
            "overflow_x": null,
            "overflow_y": null,
            "padding": null,
            "right": null,
            "top": null,
            "visibility": null,
            "width": null
          }
        },
        "79e8233af6d64d8aa5b1c02a667d456a": {
          "model_module": "@jupyter-widgets/controls",
          "model_module_version": "1.5.0",
          "model_name": "HTMLModel",
          "state": {
            "_dom_classes": [],
            "_model_module": "@jupyter-widgets/controls",
            "_model_module_version": "1.5.0",
            "_model_name": "HTMLModel",
            "_view_count": null,
            "_view_module": "@jupyter-widgets/controls",
            "_view_module_version": "1.5.0",
            "_view_name": "HTMLView",
            "description": "",
            "description_tooltip": null,
            "layout": "IPY_MODEL_ec95c3ae1ea04225aad92b6911a18fdd",
            "placeholder": "​",
            "style": "IPY_MODEL_4da6894104934ff5bb900cbe9f8964fe",
            "value": "<center> <img\nsrc=https://www.kaggle.com/static/images/site-logo.png\nalt='Kaggle'> <br> Create an API token from <a\nhref=\"https://www.kaggle.com/settings/account\" target=\"_blank\">your Kaggle\nsettings page</a> and paste it below along with your Kaggle username. <br> </center>"
          }
        },
        "82156c8b46b84b80b047bde36476ec79": {
          "model_module": "@jupyter-widgets/controls",
          "model_module_version": "1.5.0",
          "model_name": "DescriptionStyleModel",
          "state": {
            "_model_module": "@jupyter-widgets/controls",
            "_model_module_version": "1.5.0",
            "_model_name": "DescriptionStyleModel",
            "_view_count": null,
            "_view_module": "@jupyter-widgets/base",
            "_view_module_version": "1.2.0",
            "_view_name": "StyleView",
            "description_width": ""
          }
        },
        "840a385d4f184525bca8f1b99c6c5119": {
          "model_module": "@jupyter-widgets/controls",
          "model_module_version": "1.5.0",
          "model_name": "TextModel",
          "state": {
            "_dom_classes": [],
            "_model_module": "@jupyter-widgets/controls",
            "_model_module_version": "1.5.0",
            "_model_name": "TextModel",
            "_view_count": null,
            "_view_module": "@jupyter-widgets/controls",
            "_view_module_version": "1.5.0",
            "_view_name": "TextView",
            "continuous_update": true,
            "description": "Username:",
            "description_tooltip": null,
            "disabled": false,
            "layout": "IPY_MODEL_53936eb5ef09436ea362acce0552b368",
            "placeholder": "​",
            "style": "IPY_MODEL_ddcf164a5230416f96a5ed22f347e550",
            "value": "erdemmuslu"
          }
        },
        "8718a501602a460ca621e21cb283dd84": {
          "model_module": "@jupyter-widgets/controls",
          "model_module_version": "1.5.0",
          "model_name": "DescriptionStyleModel",
          "state": {
            "_model_module": "@jupyter-widgets/controls",
            "_model_module_version": "1.5.0",
            "_model_name": "DescriptionStyleModel",
            "_view_count": null,
            "_view_module": "@jupyter-widgets/base",
            "_view_module_version": "1.2.0",
            "_view_name": "StyleView",
            "description_width": ""
          }
        },
        "90df4fb5228643538e54aa6e6011bb80": {
          "model_module": "@jupyter-widgets/controls",
          "model_module_version": "1.5.0",
          "model_name": "HTMLModel",
          "state": {
            "_dom_classes": [],
            "_model_module": "@jupyter-widgets/controls",
            "_model_module_version": "1.5.0",
            "_model_name": "HTMLModel",
            "_view_count": null,
            "_view_module": "@jupyter-widgets/controls",
            "_view_module_version": "1.5.0",
            "_view_name": "HTMLView",
            "description": "",
            "description_tooltip": null,
            "layout": "IPY_MODEL_67c976394bb340689bf32e438f6ff825",
            "placeholder": "​",
            "style": "IPY_MODEL_8718a501602a460ca621e21cb283dd84",
            "value": "\n<b>Thank You</b></center>"
          }
        },
        "a1e8bada78014790a4d7b80885bddcfb": {
          "model_module": "@jupyter-widgets/controls",
          "model_module_version": "1.5.0",
          "model_name": "ButtonStyleModel",
          "state": {
            "_model_module": "@jupyter-widgets/controls",
            "_model_module_version": "1.5.0",
            "_model_name": "ButtonStyleModel",
            "_view_count": null,
            "_view_module": "@jupyter-widgets/base",
            "_view_module_version": "1.2.0",
            "_view_name": "StyleView",
            "button_color": null,
            "font_weight": ""
          }
        },
        "b65a037ad2c94539a7f5b3c5055c013f": {
          "model_module": "@jupyter-widgets/base",
          "model_module_version": "1.2.0",
          "model_name": "LayoutModel",
          "state": {
            "_model_module": "@jupyter-widgets/base",
            "_model_module_version": "1.2.0",
            "_model_name": "LayoutModel",
            "_view_count": null,
            "_view_module": "@jupyter-widgets/base",
            "_view_module_version": "1.2.0",
            "_view_name": "LayoutView",
            "align_content": null,
            "align_items": "center",
            "align_self": null,
            "border": null,
            "bottom": null,
            "display": "flex",
            "flex": null,
            "flex_flow": "column",
            "grid_area": null,
            "grid_auto_columns": null,
            "grid_auto_flow": null,
            "grid_auto_rows": null,
            "grid_column": null,
            "grid_gap": null,
            "grid_row": null,
            "grid_template_areas": null,
            "grid_template_columns": null,
            "grid_template_rows": null,
            "height": null,
            "justify_content": null,
            "justify_items": null,
            "left": null,
            "margin": null,
            "max_height": null,
            "max_width": null,
            "min_height": null,
            "min_width": null,
            "object_fit": null,
            "object_position": null,
            "order": null,
            "overflow": null,
            "overflow_x": null,
            "overflow_y": null,
            "padding": null,
            "right": null,
            "top": null,
            "visibility": null,
            "width": "50%"
          }
        },
        "c62ee96730b345159156e456beaa3324": {
          "model_module": "@jupyter-widgets/controls",
          "model_module_version": "1.5.0",
          "model_name": "VBoxModel",
          "state": {
            "_dom_classes": [],
            "_model_module": "@jupyter-widgets/controls",
            "_model_module_version": "1.5.0",
            "_model_name": "VBoxModel",
            "_view_count": null,
            "_view_module": "@jupyter-widgets/controls",
            "_view_module_version": "1.5.0",
            "_view_name": "VBoxView",
            "box_style": "",
            "children": [
              "IPY_MODEL_54afbeb3c69d4928bc40098fe59f207c"
            ],
            "layout": "IPY_MODEL_b65a037ad2c94539a7f5b3c5055c013f"
          }
        },
        "ddcf164a5230416f96a5ed22f347e550": {
          "model_module": "@jupyter-widgets/controls",
          "model_module_version": "1.5.0",
          "model_name": "DescriptionStyleModel",
          "state": {
            "_model_module": "@jupyter-widgets/controls",
            "_model_module_version": "1.5.0",
            "_model_name": "DescriptionStyleModel",
            "_view_count": null,
            "_view_module": "@jupyter-widgets/base",
            "_view_module_version": "1.2.0",
            "_view_name": "StyleView",
            "description_width": ""
          }
        },
        "e012d7d4e1294c88a766589d1b3c5a11": {
          "model_module": "@jupyter-widgets/controls",
          "model_module_version": "1.5.0",
          "model_name": "DescriptionStyleModel",
          "state": {
            "_model_module": "@jupyter-widgets/controls",
            "_model_module_version": "1.5.0",
            "_model_name": "DescriptionStyleModel",
            "_view_count": null,
            "_view_module": "@jupyter-widgets/base",
            "_view_module_version": "1.2.0",
            "_view_name": "StyleView",
            "description_width": ""
          }
        },
        "e202bba3d1264d9e9ddd4d680d8d659e": {
          "model_module": "@jupyter-widgets/base",
          "model_module_version": "1.2.0",
          "model_name": "LayoutModel",
          "state": {
            "_model_module": "@jupyter-widgets/base",
            "_model_module_version": "1.2.0",
            "_model_name": "LayoutModel",
            "_view_count": null,
            "_view_module": "@jupyter-widgets/base",
            "_view_module_version": "1.2.0",
            "_view_name": "LayoutView",
            "align_content": null,
            "align_items": null,
            "align_self": null,
            "border": null,
            "bottom": null,
            "display": null,
            "flex": null,
            "flex_flow": null,
            "grid_area": null,
            "grid_auto_columns": null,
            "grid_auto_flow": null,
            "grid_auto_rows": null,
            "grid_column": null,
            "grid_gap": null,
            "grid_row": null,
            "grid_template_areas": null,
            "grid_template_columns": null,
            "grid_template_rows": null,
            "height": null,
            "justify_content": null,
            "justify_items": null,
            "left": null,
            "margin": null,
            "max_height": null,
            "max_width": null,
            "min_height": null,
            "min_width": null,
            "object_fit": null,
            "object_position": null,
            "order": null,
            "overflow": null,
            "overflow_x": null,
            "overflow_y": null,
            "padding": null,
            "right": null,
            "top": null,
            "visibility": null,
            "width": null
          }
        },
        "ec95c3ae1ea04225aad92b6911a18fdd": {
          "model_module": "@jupyter-widgets/base",
          "model_module_version": "1.2.0",
          "model_name": "LayoutModel",
          "state": {
            "_model_module": "@jupyter-widgets/base",
            "_model_module_version": "1.2.0",
            "_model_name": "LayoutModel",
            "_view_count": null,
            "_view_module": "@jupyter-widgets/base",
            "_view_module_version": "1.2.0",
            "_view_name": "LayoutView",
            "align_content": null,
            "align_items": null,
            "align_self": null,
            "border": null,
            "bottom": null,
            "display": null,
            "flex": null,
            "flex_flow": null,
            "grid_area": null,
            "grid_auto_columns": null,
            "grid_auto_flow": null,
            "grid_auto_rows": null,
            "grid_column": null,
            "grid_gap": null,
            "grid_row": null,
            "grid_template_areas": null,
            "grid_template_columns": null,
            "grid_template_rows": null,
            "height": null,
            "justify_content": null,
            "justify_items": null,
            "left": null,
            "margin": null,
            "max_height": null,
            "max_width": null,
            "min_height": null,
            "min_width": null,
            "object_fit": null,
            "object_position": null,
            "order": null,
            "overflow": null,
            "overflow_x": null,
            "overflow_y": null,
            "padding": null,
            "right": null,
            "top": null,
            "visibility": null,
            "width": null
          }
        },
        "ee5b72e36e3947c3ad507d8269c7a42b": {
          "model_module": "@jupyter-widgets/controls",
          "model_module_version": "1.5.0",
          "model_name": "ButtonModel",
          "state": {
            "_dom_classes": [],
            "_model_module": "@jupyter-widgets/controls",
            "_model_module_version": "1.5.0",
            "_model_name": "ButtonModel",
            "_view_count": null,
            "_view_module": "@jupyter-widgets/controls",
            "_view_module_version": "1.5.0",
            "_view_name": "ButtonView",
            "button_style": "",
            "description": "Login",
            "disabled": false,
            "icon": "",
            "layout": "IPY_MODEL_499efb4d069b4da78b6cf347a80bd2f1",
            "style": "IPY_MODEL_a1e8bada78014790a4d7b80885bddcfb",
            "tooltip": ""
          }
        }
      }
    }
  },
  "nbformat": 4,
  "nbformat_minor": 0
}
