{
  "cells": [
    {
      "cell_type": "code",
      "execution_count": 1,
      "metadata": {
        "colab": {
          "base_uri": "https://localhost:8080/",
          "height": 84,
          "referenced_widgets": [
            "a8d5efbff591425ab14c09159cb8977a",
            "7839e9ee59c4439cab400388e7f6c27c",
            "4e74a3a4c88e47c188158b4174a54e22",
            "fda4d7fcff674309a0dd5a0f9b01f47b",
            "9e849608be8945aab03aefa7d3d04c82",
            "21232ab262ca4673aa956d346e9371b7",
            "beea5fbd54e54193a1792412105c2fea",
            "7cf897a451ac4083b9df53f1daef03ca",
            "36d4df6af8994b05873fea15155bcd4b",
            "a46fd967e4dc4583b5452deaf74bcbbf",
            "fdabf173b6f2430daad9d34f2edd891e",
            "cd8f56e9003f4fb5ba90ea093509c9bb",
            "3b38ef3af91c458784d634352a34fcec",
            "90581f2e3da14aa9934f5acac72e064c",
            "71a52a32cd704eb2bca60591996ad511",
            "87b56ae59708484c8f664fab032efb51",
            "bf11b1dad39f41268edf7721d989cb62",
            "0d7378ce236b43a28d6fb139a22e7303",
            "cff913f36f144babb27e72913ef8d501",
            "188b39e87f0f40a1a9828d210dd1f5f1",
            "4a6c2dcbbc5343cbac070e9cbcd830ba",
            "1f4a18c499d6484dbeac8b67c6dba41c",
            "8847f583ebe74f308e235509fad1c17a"
          ]
        },
        "id": "PLl1ZFSXh5KM",
        "outputId": "8019d706-678a-437c-e476-ebfb31e157c1"
      },
      "outputs": [
        {
          "data": {
            "application/vnd.jupyter.widget-view+json": {
              "model_id": "3ffcc5c2e0fe4adea05794c890ea29cb",
              "version_major": 2,
              "version_minor": 0
            },
            "text/plain": [
              "VBox(children=(HTML(value='<center> <img\\nsrc=https://www.kaggle.com/static/images/site-logo.png\\nalt=\\'Kaggle…"
            ]
          },
          "metadata": {},
          "output_type": "display_data"
        }
      ],
      "source": [
        "# RUN THIS CELL IN ORDER TO IMPORT YOUR KAGGLE DATA SOURCES.\n",
        "import kagglehub\n",
        "kagglehub.login()"
      ]
    },
    {
      "cell_type": "code",
      "execution_count": null,
      "metadata": {
        "colab": {
          "base_uri": "https://localhost:8080/"
        },
        "id": "6bLgdxZMkq6u",
        "outputId": "9df4ea1f-0cc3-4850-ac24-e2501554fde3"
      },
      "outputs": [],
      "source": [
        "# IMPORTANT: RUN THIS CELL IN ORDER TO IMPORT YOUR KAGGLE DATA SOURCES,\n",
        "# THEN FEEL FREE TO DELETE THIS CELL.\n",
        "dansbecker_home_data_for_ml_course_path = kagglehub.dataset_download('dansbecker/home-data-for-ml-course')\n",
        "#print a message to let us know that the data source import process is complete\n",
        "print('Data source import complete.')"
      ]
    },
    {
      "cell_type": "code",
      "execution_count": 5,
      "metadata": {
        "colab": {
          "base_uri": "https://localhost:8080/"
        },
        "id": "l19ASJVDlUWi",
        "outputId": "42834a54-6fce-4ca9-b059-e46adce790e2"
      },
      "outputs": [
        {
          "name": "stdout",
          "output_type": "stream",
          "text": [
            "Datasets loaded successfully!\n"
          ]
        }
      ],
      "source": [
        "import pandas as pd\n",
        "import numpy as np\n",
        "\n",
        "# Load the datasets\n",
        "iowa_file_path = dansbecker_home_data_for_ml_course_path + '/train.csv'\n",
        "\n",
        "iowa_data = pd.read_csv(iowa_file_path)\n",
        "\n",
        "print(\"Datasets loaded successfully!\")"
      ]
    },
    {
      "cell_type": "code",
      "execution_count": 8,
      "metadata": {
        "colab": {
          "base_uri": "https://localhost:8080/"
        },
        "id": "SvFkiOpc5RJR",
        "outputId": "f7fb182b-936a-4dd5-b2fc-07b6bdbf38f0"
      },
      "outputs": [
        {
          "name": "stdout",
          "output_type": "stream",
          "text": [
            "\n",
            "Exercise 1.1: Displaying Data\n",
            "\n",
            "First 5 rows of Iowa data:\n",
            "   Id  MSSubClass MSZoning  LotFrontage  LotArea Street Alley LotShape  \\\n",
            "0   1          60       RL         65.0     8450   Pave   NaN      Reg   \n",
            "1   2          20       RL         80.0     9600   Pave   NaN      Reg   \n",
            "2   3          60       RL         68.0    11250   Pave   NaN      IR1   \n",
            "3   4          70       RL         60.0     9550   Pave   NaN      IR1   \n",
            "4   5          60       RL         84.0    14260   Pave   NaN      IR1   \n",
            "\n",
            "  LandContour Utilities  ... PoolArea PoolQC Fence MiscFeature MiscVal MoSold  \\\n",
            "0         Lvl    AllPub  ...        0    NaN   NaN         NaN       0      2   \n",
            "1         Lvl    AllPub  ...        0    NaN   NaN         NaN       0      5   \n",
            "2         Lvl    AllPub  ...        0    NaN   NaN         NaN       0      9   \n",
            "3         Lvl    AllPub  ...        0    NaN   NaN         NaN       0      2   \n",
            "4         Lvl    AllPub  ...        0    NaN   NaN         NaN       0     12   \n",
            "\n",
            "  YrSold  SaleType  SaleCondition  SalePrice  \n",
            "0   2008        WD         Normal     208500  \n",
            "1   2007        WD         Normal     181500  \n",
            "2   2008        WD         Normal     223500  \n",
            "3   2006        WD        Abnorml     140000  \n",
            "4   2008        WD         Normal     250000  \n",
            "\n",
            "[5 rows x 81 columns]\n"
          ]
        }
      ],
      "source": [
        "# Exercise 1.1: Displaying Data\n",
        "print(\"\\nExercise 1.1: Displaying Data\")\n",
        "# Explanation: Let's start by displaying the data.\n",
        "\n",
        "# 1.1.1 Display the first 5 rows of the Iowa data\n",
        "print(\"\\nFirst 5 rows of Iowa data:\")\n",
        "print(iowa_data.head())\n",
        "\n",
        "# Explanation: .head() displays the first n rows, where n is specified or 5 by default."
      ]
    },
    {
      "cell_type": "code",
      "execution_count": 10,
      "metadata": {
        "colab": {
          "base_uri": "https://localhost:8080/"
        },
        "id": "ue-oKxOy6BD4",
        "outputId": "3319cced-d82b-48ca-87e3-e359deab7b96"
      },
      "outputs": [
        {
          "name": "stdout",
          "output_type": "stream",
          "text": [
            "\n",
            "Exercise 1.2: Getting Data Information\n",
            "Shape of Iowa data (rows, columns): (1460, 81)\n",
            "\n",
            "Data types of Iowa data:\n",
            "Id                 int64\n",
            "MSSubClass         int64\n",
            "MSZoning          object\n",
            "LotFrontage      float64\n",
            "LotArea            int64\n",
            "                  ...   \n",
            "MoSold             int64\n",
            "YrSold             int64\n",
            "SaleType          object\n",
            "SaleCondition     object\n",
            "SalePrice          int64\n",
            "Length: 81, dtype: object\n"
          ]
        }
      ],
      "source": [
        "# Exercise 1.2: Getting Data Information\n",
        "print(\"\\nExercise 1.2: Getting Data Information\")\n",
        "# Explanation: Let's get some high level information about the structure of the data.\n",
        "\n",
        "\n",
        "# 1.2.1 Print the shape (number of rows and columns) of the Iowa data\n",
        "print(\"Shape of Iowa data (rows, columns):\", iowa_data.shape)\n",
        "# Explanation: .shape returns a tuple containing the dimensions of the DataFrame.\n",
        "\n",
        "# 1.2.2 Print the data types of each column in the Iowa data\n",
        "print(\"\\nData types of Iowa data:\")\n",
        "print(iowa_data.dtypes)\n",
        "# Explanation: .dtypes returns a Series with the data type of each column."
      ]
    },
    {
      "cell_type": "code",
      "execution_count": 12,
      "metadata": {
        "colab": {
          "base_uri": "https://localhost:8080/"
        },
        "id": "14O6fGDF6h5W",
        "outputId": "86bd8b98-1086-4a84-b18c-b5a8ac03ed49"
      },
      "outputs": [
        {
          "name": "stdout",
          "output_type": "stream",
          "text": [
            "\n",
            "Exercise 1.3: Basic Statistics\n",
            "\n",
            "Descriptive statistics for Iowa data:\n",
            "                Id   MSSubClass  LotFrontage        LotArea  OverallQual  \\\n",
            "count  1460.000000  1460.000000  1201.000000    1460.000000  1460.000000   \n",
            "mean    730.500000    56.897260    70.049958   10516.828082     6.099315   \n",
            "std     421.610009    42.300571    24.284752    9981.264932     1.382997   \n",
            "min       1.000000    20.000000    21.000000    1300.000000     1.000000   \n",
            "25%     365.750000    20.000000    59.000000    7553.500000     5.000000   \n",
            "50%     730.500000    50.000000    69.000000    9478.500000     6.000000   \n",
            "75%    1095.250000    70.000000    80.000000   11601.500000     7.000000   \n",
            "max    1460.000000   190.000000   313.000000  215245.000000    10.000000   \n",
            "\n",
            "       OverallCond    YearBuilt  YearRemodAdd   MasVnrArea   BsmtFinSF1  ...  \\\n",
            "count  1460.000000  1460.000000   1460.000000  1452.000000  1460.000000  ...   \n",
            "mean      5.575342  1971.267808   1984.865753   103.685262   443.639726  ...   \n",
            "std       1.112799    30.202904     20.645407   181.066207   456.098091  ...   \n",
            "min       1.000000  1872.000000   1950.000000     0.000000     0.000000  ...   \n",
            "25%       5.000000  1954.000000   1967.000000     0.000000     0.000000  ...   \n",
            "50%       5.000000  1973.000000   1994.000000     0.000000   383.500000  ...   \n",
            "75%       6.000000  2000.000000   2004.000000   166.000000   712.250000  ...   \n",
            "max       9.000000  2010.000000   2010.000000  1600.000000  5644.000000  ...   \n",
            "\n",
            "        WoodDeckSF  OpenPorchSF  EnclosedPorch    3SsnPorch  ScreenPorch  \\\n",
            "count  1460.000000  1460.000000    1460.000000  1460.000000  1460.000000   \n",
            "mean     94.244521    46.660274      21.954110     3.409589    15.060959   \n",
            "std     125.338794    66.256028      61.119149    29.317331    55.757415   \n",
            "min       0.000000     0.000000       0.000000     0.000000     0.000000   \n",
            "25%       0.000000     0.000000       0.000000     0.000000     0.000000   \n",
            "50%       0.000000    25.000000       0.000000     0.000000     0.000000   \n",
            "75%     168.000000    68.000000       0.000000     0.000000     0.000000   \n",
            "max     857.000000   547.000000     552.000000   508.000000   480.000000   \n",
            "\n",
            "          PoolArea       MiscVal       MoSold       YrSold      SalePrice  \n",
            "count  1460.000000   1460.000000  1460.000000  1460.000000    1460.000000  \n",
            "mean      2.758904     43.489041     6.321918  2007.815753  180921.195890  \n",
            "std      40.177307    496.123024     2.703626     1.328095   79442.502883  \n",
            "min       0.000000      0.000000     1.000000  2006.000000   34900.000000  \n",
            "25%       0.000000      0.000000     5.000000  2007.000000  129975.000000  \n",
            "50%       0.000000      0.000000     6.000000  2008.000000  163000.000000  \n",
            "75%       0.000000      0.000000     8.000000  2009.000000  214000.000000  \n",
            "max     738.000000  15500.000000    12.000000  2010.000000  755000.000000  \n",
            "\n",
            "[8 rows x 38 columns]\n"
          ]
        }
      ],
      "source": [
        "# Exercise 1.3: Basic Statistics\n",
        "print(\"\\nExercise 1.3: Basic Statistics\")\n",
        "# Explanation: Let's look at some descriptive statistics.\n",
        "\n",
        "# 1.3.1 Print descriptive statistics for the Iowa data\n",
        "print(\"\\nDescriptive statistics for Iowa data:\")\n",
        "print(iowa_data.describe())\n",
        "# Explanation: .describe() computes and displays various summary statistics like mean,\n",
        "# std, min, max, etc. by default, it only computes these on numeric columns."
      ]
    },
    {
      "cell_type": "code",
      "execution_count": 14,
      "metadata": {
        "colab": {
          "base_uri": "https://localhost:8080/"
        },
        "id": "iWH0PyXX6yfs",
        "outputId": "0f600940-805f-41c5-d1c0-ce57b1367b44"
      },
      "outputs": [
        {
          "name": "stdout",
          "output_type": "stream",
          "text": [
            "\n",
            "Exercise 1.4: Analyzing Specific Columns\n",
            "\n",
            "Mean SalePrice in Iowa data: 180921.19589041095\n",
            "Median SalePrice in Iowa data: 163000.0\n",
            "Standard deviation of SalePrice in Iowa data: 79442.50288288663\n",
            "Minimum SalePrice in Iowa data: 34900\n",
            "Maximum SalePrice in Iowa data: 755000\n"
          ]
        }
      ],
      "source": [
        "# Exercise 1.4: Analyzing Specific Columns\n",
        "print(\"\\nExercise 1.4: Analyzing Specific Columns\")\n",
        "# Explanation: Let's dig deeper into a few key columns.\n",
        "\n",
        "# 1.4.1 Print the mean of 'SalePrice' column in the Iowa data\n",
        "print(\"\\nMean SalePrice in Iowa data:\", iowa_data['SalePrice'].mean())\n",
        "# Explanation: .mean() calculates the average value of the column.\n",
        "\n",
        "# 1.4.2 Print the median of 'SalePrice' column in the Iowa data\n",
        "print(\"Median SalePrice in Iowa data:\", iowa_data['SalePrice'].median())\n",
        "# Explanation: .median() calculates the middle value of the column when it's sorted.\n",
        "\n",
        "# 1.4.3 Print the standard deviation of 'SalePrice' column in the Iowa data\n",
        "print(\"Standard deviation of SalePrice in Iowa data:\", iowa_data['SalePrice'].std())\n",
        "# Explanation: .std() calculates the standard deviation of the column values,\n",
        "# indicating the data's dispersion around the mean.\n",
        "\n",
        "# 1.4.4 Print the minimum value of 'SalePrice' column in the Iowa data\n",
        "print(\"Minimum SalePrice in Iowa data:\", iowa_data['SalePrice'].min())\n",
        "# Explanation: .min() calculates the minimum value of the column.\n",
        "\n",
        "# 1.4.5 Print the maximum value of 'SalePrice' column in the Iowa data\n",
        "print(\"Maximum SalePrice in Iowa data:\", iowa_data['SalePrice'].max())\n",
        "# Explanation: .max() calculates the maximum value of the column."
      ]
    },
    {
      "cell_type": "code",
      "execution_count": 16,
      "metadata": {
        "colab": {
          "base_uri": "https://localhost:8080/"
        },
        "id": "ZgUxfdXB8RZv",
        "outputId": "2881edd6-8823-409b-afa8-960fb8bbbc37"
      },
      "outputs": [
        {
          "name": "stdout",
          "output_type": "stream",
          "text": [
            "\n",
            "Exercise 1.5: Value Counts\n",
            "\n",
            "Value counts for 'Neighborhood' in Iowa data:\n",
            "Neighborhood\n",
            "NAmes      225\n",
            "CollgCr    150\n",
            "OldTown    113\n",
            "Edwards    100\n",
            "Somerst     86\n",
            "Gilbert     79\n",
            "NridgHt     77\n",
            "Sawyer      74\n",
            "NWAmes      73\n",
            "SawyerW     59\n",
            "BrkSide     58\n",
            "Crawfor     51\n",
            "Mitchel     49\n",
            "NoRidge     41\n",
            "Timber      38\n",
            "IDOTRR      37\n",
            "ClearCr     28\n",
            "StoneBr     25\n",
            "SWISU       25\n",
            "MeadowV     17\n",
            "Blmngtn     17\n",
            "BrDale      16\n",
            "Veenker     11\n",
            "NPkVill      9\n",
            "Blueste      2\n",
            "Name: count, dtype: int64\n"
          ]
        }
      ],
      "source": [
        "# Exercise 1.5: Value Counts\n",
        "print(\"\\nExercise 1.5: Value Counts\")\n",
        "# Explanation: Let's see how many times each unique value appears in a column.\n",
        "# This is useful for categorical features.\n",
        "\n",
        "# 1.5.1 Print the value counts for the 'Neighborhood' column in the Iowa data\n",
        "print(\"\\nValue counts for 'Neighborhood' in Iowa data:\")\n",
        "print(iowa_data['Neighborhood'].value_counts())\n",
        "# Explanation: .value_counts() displays the frequency of each unique value in the column"
      ]
    },
    {
      "cell_type": "code",
      "execution_count": 1,
      "metadata": {
        "id": "2u_FG5IZ9mIf"
      },
      "outputs": [
        {
          "name": "stdout",
          "output_type": "stream",
          "text": [
            "\n",
            "\n",
            "----- Section 2: Statistical Interpretation -----\n"
          ]
        }
      ],
      "source": [
        "#------------------------------------\n",
        "# Section 2: Statistical Interpretation\n",
        "#------------------------------------\n",
        "print(\"\\n\\n----- Section 2: Statistical Interpretation -----\")"
      ]
    },
    {
      "cell_type": "code",
      "execution_count": 2,
      "metadata": {},
      "outputs": [
        {
          "name": "stdout",
          "output_type": "stream",
          "text": [
            "\n",
            "Exercise 2.1: Understanding the Mean, Median, and Standard Deviation\n",
            "\n",
            "2.1.1: Difference between mean and median price:\n",
            "The mean is the sum of all prices divided by the number of properties,\n",
            "while the median is the middle value in the sorted list.\n",
            "If there is a difference between the mean and median, the data may be skewed.\n",
            "This means many properties might have low prices, while a few have extremely high prices.\n",
            "\n",
            "2.1.2: Standard deviation and price spread:\n",
            "The standard deviation measures the degree of dispersion around the mean.\n",
            "A higher standard deviation suggests a wider spread of prices.\n"
          ]
        }
      ],
      "source": [
        "# Exercise 2.1: Understanding the Mean, Median, and Standard Deviation\n",
        "print(\"\\nExercise 2.1: Understanding the Mean, Median, and Standard Deviation\")\n",
        "# Explanation: Reflect on the previous outputs.\n",
        "\n",
        "# 2.1.1: Discuss the difference between mean and median price for both datasets\n",
        "print(\"\"\"\\n2.1.1: Difference between mean and median price:\n",
        "The mean is the sum of all prices divided by the number of properties,\n",
        "while the median is the middle value in the sorted list.\n",
        "If there is a difference between the mean and median, the data may be skewed.\n",
        "This means many properties might have low prices, while a few have extremely high prices.\"\"\")\n",
        "\n",
        "# 2.1.2: Discuss what the standard deviation tells us about the price data\n",
        "print(\"\"\"\\n2.1.2: Standard deviation and price spread:\n",
        "The standard deviation measures the degree of dispersion around the mean.\n",
        "A higher standard deviation suggests a wider spread of prices.\"\"\")"
      ]
    },
    {
      "cell_type": "code",
      "execution_count": 3,
      "metadata": {},
      "outputs": [
        {
          "name": "stdout",
          "output_type": "stream",
          "text": [
            "\n",
            "Exercise 2.2: Analyzing Distributions\n",
            "\n",
            "2.2.1: Distribution of 'Type' in Melbourne:\n",
            "Based on value counts, we can see how many properties are of\n",
            "type 'h' (house), 'u' (unit), and 't' (townhouse).\n",
            "This helps understand the types of properties prevalent in the dataset.\n",
            "\n",
            "2.2.2: Distribution of 'Neighborhood' in Iowa:\n",
            "The value counts show how many houses are in each 'Neighborhood',\n",
            "indicating which areas are most prevalent.\n",
            "This might provide insights on price differences based on areas\n",
            "\n",
            "\n",
            "----- End of Exercises -----\n"
          ]
        }
      ],
      "source": [
        "# Exercise 2.2: Analyzing Distributions\n",
        "print(\"\\nExercise 2.2: Analyzing Distributions\")\n",
        "# Explanation: Let's explore the distributions of categorical features.\n",
        "\n",
        "# 2.2.1: Explain the distribution of 'Type' in the Melbourne dataset\n",
        "print(\"\"\"\\n2.2.1: Distribution of 'Type' in Melbourne:\n",
        "Based on value counts, we can see how many properties are of\n",
        "type 'h' (house), 'u' (unit), and 't' (townhouse).\n",
        "This helps understand the types of properties prevalent in the dataset.\"\"\")\n",
        "\n",
        "# 2.2.2: Explain the distribution of 'Neighborhood' in the Iowa dataset\n",
        "print(\"\"\"\\n2.2.2: Distribution of 'Neighborhood' in Iowa:\n",
        "The value counts show how many houses are in each 'Neighborhood',\n",
        "indicating which areas are most prevalent.\n",
        "This might provide insights on price differences based on areas\"\"\")\n",
        "\n",
        "#------------------------------------\n",
        "# End of Exercises\n",
        "#------------------------------------\n",
        "print(\"\\n\\n----- End of Exercises -----\")"
      ]
    }
  ],
  "metadata": {
    "colab": {
      "provenance": []
    },
    "kernelspec": {
      "display_name": "Python 3",
      "name": "python3"
    },
    "language_info": {
      "codemirror_mode": {
        "name": "ipython",
        "version": 3
      },
      "file_extension": ".py",
      "mimetype": "text/x-python",
      "name": "python",
      "nbconvert_exporter": "python",
      "pygments_lexer": "ipython3",
      "version": "3.12.1"
    },
    "widgets": {
      "application/vnd.jupyter.widget-state+json": {
        "0d7378ce236b43a28d6fb139a22e7303": {
          "model_module": "@jupyter-widgets/controls",
          "model_module_version": "1.5.0",
          "model_name": "LabelModel",
          "state": {
            "_dom_classes": [],
            "_model_module": "@jupyter-widgets/controls",
            "_model_module_version": "1.5.0",
            "_model_name": "LabelModel",
            "_view_count": null,
            "_view_module": "@jupyter-widgets/controls",
            "_view_module_version": "1.5.0",
            "_view_name": "LabelView",
            "description": "",
            "description_tooltip": null,
            "layout": "IPY_MODEL_cff913f36f144babb27e72913ef8d501",
            "placeholder": "​",
            "style": "IPY_MODEL_188b39e87f0f40a1a9828d210dd1f5f1",
            "value": "Connecting..."
          }
        },
        "188b39e87f0f40a1a9828d210dd1f5f1": {
          "model_module": "@jupyter-widgets/controls",
          "model_module_version": "1.5.0",
          "model_name": "DescriptionStyleModel",
          "state": {
            "_model_module": "@jupyter-widgets/controls",
            "_model_module_version": "1.5.0",
            "_model_name": "DescriptionStyleModel",
            "_view_count": null,
            "_view_module": "@jupyter-widgets/base",
            "_view_module_version": "1.2.0",
            "_view_name": "StyleView",
            "description_width": ""
          }
        },
        "1f4a18c499d6484dbeac8b67c6dba41c": {
          "model_module": "@jupyter-widgets/base",
          "model_module_version": "1.2.0",
          "model_name": "LayoutModel",
          "state": {
            "_model_module": "@jupyter-widgets/base",
            "_model_module_version": "1.2.0",
            "_model_name": "LayoutModel",
            "_view_count": null,
            "_view_module": "@jupyter-widgets/base",
            "_view_module_version": "1.2.0",
            "_view_name": "LayoutView",
            "align_content": null,
            "align_items": null,
            "align_self": null,
            "border": null,
            "bottom": null,
            "display": null,
            "flex": null,
            "flex_flow": null,
            "grid_area": null,
            "grid_auto_columns": null,
            "grid_auto_flow": null,
            "grid_auto_rows": null,
            "grid_column": null,
            "grid_gap": null,
            "grid_row": null,
            "grid_template_areas": null,
            "grid_template_columns": null,
            "grid_template_rows": null,
            "height": null,
            "justify_content": null,
            "justify_items": null,
            "left": null,
            "margin": null,
            "max_height": null,
            "max_width": null,
            "min_height": null,
            "min_width": null,
            "object_fit": null,
            "object_position": null,
            "order": null,
            "overflow": null,
            "overflow_x": null,
            "overflow_y": null,
            "padding": null,
            "right": null,
            "top": null,
            "visibility": null,
            "width": null
          }
        },
        "21232ab262ca4673aa956d346e9371b7": {
          "model_module": "@jupyter-widgets/controls",
          "model_module_version": "1.5.0",
          "model_name": "HTMLModel",
          "state": {
            "_dom_classes": [],
            "_model_module": "@jupyter-widgets/controls",
            "_model_module_version": "1.5.0",
            "_model_name": "HTMLModel",
            "_view_count": null,
            "_view_module": "@jupyter-widgets/controls",
            "_view_module_version": "1.5.0",
            "_view_name": "HTMLView",
            "description": "",
            "description_tooltip": null,
            "layout": "IPY_MODEL_87b56ae59708484c8f664fab032efb51",
            "placeholder": "​",
            "style": "IPY_MODEL_bf11b1dad39f41268edf7721d989cb62",
            "value": "\n<b>Thank You</b></center>"
          }
        },
        "36d4df6af8994b05873fea15155bcd4b": {
          "model_module": "@jupyter-widgets/controls",
          "model_module_version": "1.5.0",
          "model_name": "DescriptionStyleModel",
          "state": {
            "_model_module": "@jupyter-widgets/controls",
            "_model_module_version": "1.5.0",
            "_model_name": "DescriptionStyleModel",
            "_view_count": null,
            "_view_module": "@jupyter-widgets/base",
            "_view_module_version": "1.2.0",
            "_view_name": "StyleView",
            "description_width": ""
          }
        },
        "3b38ef3af91c458784d634352a34fcec": {
          "model_module": "@jupyter-widgets/controls",
          "model_module_version": "1.5.0",
          "model_name": "DescriptionStyleModel",
          "state": {
            "_model_module": "@jupyter-widgets/controls",
            "_model_module_version": "1.5.0",
            "_model_name": "DescriptionStyleModel",
            "_view_count": null,
            "_view_module": "@jupyter-widgets/base",
            "_view_module_version": "1.2.0",
            "_view_name": "StyleView",
            "description_width": ""
          }
        },
        "4a6c2dcbbc5343cbac070e9cbcd830ba": {
          "model_module": "@jupyter-widgets/controls",
          "model_module_version": "1.5.0",
          "model_name": "LabelModel",
          "state": {
            "_dom_classes": [],
            "_model_module": "@jupyter-widgets/controls",
            "_model_module_version": "1.5.0",
            "_model_name": "LabelModel",
            "_view_count": null,
            "_view_module": "@jupyter-widgets/controls",
            "_view_module_version": "1.5.0",
            "_view_name": "LabelView",
            "description": "",
            "description_tooltip": null,
            "layout": "IPY_MODEL_1f4a18c499d6484dbeac8b67c6dba41c",
            "placeholder": "​",
            "style": "IPY_MODEL_8847f583ebe74f308e235509fad1c17a",
            "value": "Kaggle credentials successfully validated."
          }
        },
        "4e74a3a4c88e47c188158b4174a54e22": {
          "model_module": "@jupyter-widgets/controls",
          "model_module_version": "1.5.0",
          "model_name": "TextModel",
          "state": {
            "_dom_classes": [],
            "_model_module": "@jupyter-widgets/controls",
            "_model_module_version": "1.5.0",
            "_model_name": "TextModel",
            "_view_count": null,
            "_view_module": "@jupyter-widgets/controls",
            "_view_module_version": "1.5.0",
            "_view_name": "TextView",
            "continuous_update": true,
            "description": "Username:",
            "description_tooltip": null,
            "disabled": false,
            "layout": "IPY_MODEL_a46fd967e4dc4583b5452deaf74bcbbf",
            "placeholder": "​",
            "style": "IPY_MODEL_fdabf173b6f2430daad9d34f2edd891e",
            "value": "erdemmuslu"
          }
        },
        "71a52a32cd704eb2bca60591996ad511": {
          "model_module": "@jupyter-widgets/controls",
          "model_module_version": "1.5.0",
          "model_name": "ButtonStyleModel",
          "state": {
            "_model_module": "@jupyter-widgets/controls",
            "_model_module_version": "1.5.0",
            "_model_name": "ButtonStyleModel",
            "_view_count": null,
            "_view_module": "@jupyter-widgets/base",
            "_view_module_version": "1.2.0",
            "_view_name": "StyleView",
            "button_color": null,
            "font_weight": ""
          }
        },
        "7839e9ee59c4439cab400388e7f6c27c": {
          "model_module": "@jupyter-widgets/controls",
          "model_module_version": "1.5.0",
          "model_name": "HTMLModel",
          "state": {
            "_dom_classes": [],
            "_model_module": "@jupyter-widgets/controls",
            "_model_module_version": "1.5.0",
            "_model_name": "HTMLModel",
            "_view_count": null,
            "_view_module": "@jupyter-widgets/controls",
            "_view_module_version": "1.5.0",
            "_view_name": "HTMLView",
            "description": "",
            "description_tooltip": null,
            "layout": "IPY_MODEL_7cf897a451ac4083b9df53f1daef03ca",
            "placeholder": "​",
            "style": "IPY_MODEL_36d4df6af8994b05873fea15155bcd4b",
            "value": "<center> <img\nsrc=https://www.kaggle.com/static/images/site-logo.png\nalt='Kaggle'> <br> Create an API token from <a\nhref=\"https://www.kaggle.com/settings/account\" target=\"_blank\">your Kaggle\nsettings page</a> and paste it below along with your Kaggle username. <br> </center>"
          }
        },
        "7cf897a451ac4083b9df53f1daef03ca": {
          "model_module": "@jupyter-widgets/base",
          "model_module_version": "1.2.0",
          "model_name": "LayoutModel",
          "state": {
            "_model_module": "@jupyter-widgets/base",
            "_model_module_version": "1.2.0",
            "_model_name": "LayoutModel",
            "_view_count": null,
            "_view_module": "@jupyter-widgets/base",
            "_view_module_version": "1.2.0",
            "_view_name": "LayoutView",
            "align_content": null,
            "align_items": null,
            "align_self": null,
            "border": null,
            "bottom": null,
            "display": null,
            "flex": null,
            "flex_flow": null,
            "grid_area": null,
            "grid_auto_columns": null,
            "grid_auto_flow": null,
            "grid_auto_rows": null,
            "grid_column": null,
            "grid_gap": null,
            "grid_row": null,
            "grid_template_areas": null,
            "grid_template_columns": null,
            "grid_template_rows": null,
            "height": null,
            "justify_content": null,
            "justify_items": null,
            "left": null,
            "margin": null,
            "max_height": null,
            "max_width": null,
            "min_height": null,
            "min_width": null,
            "object_fit": null,
            "object_position": null,
            "order": null,
            "overflow": null,
            "overflow_x": null,
            "overflow_y": null,
            "padding": null,
            "right": null,
            "top": null,
            "visibility": null,
            "width": null
          }
        },
        "87b56ae59708484c8f664fab032efb51": {
          "model_module": "@jupyter-widgets/base",
          "model_module_version": "1.2.0",
          "model_name": "LayoutModel",
          "state": {
            "_model_module": "@jupyter-widgets/base",
            "_model_module_version": "1.2.0",
            "_model_name": "LayoutModel",
            "_view_count": null,
            "_view_module": "@jupyter-widgets/base",
            "_view_module_version": "1.2.0",
            "_view_name": "LayoutView",
            "align_content": null,
            "align_items": null,
            "align_self": null,
            "border": null,
            "bottom": null,
            "display": null,
            "flex": null,
            "flex_flow": null,
            "grid_area": null,
            "grid_auto_columns": null,
            "grid_auto_flow": null,
            "grid_auto_rows": null,
            "grid_column": null,
            "grid_gap": null,
            "grid_row": null,
            "grid_template_areas": null,
            "grid_template_columns": null,
            "grid_template_rows": null,
            "height": null,
            "justify_content": null,
            "justify_items": null,
            "left": null,
            "margin": null,
            "max_height": null,
            "max_width": null,
            "min_height": null,
            "min_width": null,
            "object_fit": null,
            "object_position": null,
            "order": null,
            "overflow": null,
            "overflow_x": null,
            "overflow_y": null,
            "padding": null,
            "right": null,
            "top": null,
            "visibility": null,
            "width": null
          }
        },
        "8847f583ebe74f308e235509fad1c17a": {
          "model_module": "@jupyter-widgets/controls",
          "model_module_version": "1.5.0",
          "model_name": "DescriptionStyleModel",
          "state": {
            "_model_module": "@jupyter-widgets/controls",
            "_model_module_version": "1.5.0",
            "_model_name": "DescriptionStyleModel",
            "_view_count": null,
            "_view_module": "@jupyter-widgets/base",
            "_view_module_version": "1.2.0",
            "_view_name": "StyleView",
            "description_width": ""
          }
        },
        "90581f2e3da14aa9934f5acac72e064c": {
          "model_module": "@jupyter-widgets/base",
          "model_module_version": "1.2.0",
          "model_name": "LayoutModel",
          "state": {
            "_model_module": "@jupyter-widgets/base",
            "_model_module_version": "1.2.0",
            "_model_name": "LayoutModel",
            "_view_count": null,
            "_view_module": "@jupyter-widgets/base",
            "_view_module_version": "1.2.0",
            "_view_name": "LayoutView",
            "align_content": null,
            "align_items": null,
            "align_self": null,
            "border": null,
            "bottom": null,
            "display": null,
            "flex": null,
            "flex_flow": null,
            "grid_area": null,
            "grid_auto_columns": null,
            "grid_auto_flow": null,
            "grid_auto_rows": null,
            "grid_column": null,
            "grid_gap": null,
            "grid_row": null,
            "grid_template_areas": null,
            "grid_template_columns": null,
            "grid_template_rows": null,
            "height": null,
            "justify_content": null,
            "justify_items": null,
            "left": null,
            "margin": null,
            "max_height": null,
            "max_width": null,
            "min_height": null,
            "min_width": null,
            "object_fit": null,
            "object_position": null,
            "order": null,
            "overflow": null,
            "overflow_x": null,
            "overflow_y": null,
            "padding": null,
            "right": null,
            "top": null,
            "visibility": null,
            "width": null
          }
        },
        "9e849608be8945aab03aefa7d3d04c82": {
          "model_module": "@jupyter-widgets/controls",
          "model_module_version": "1.5.0",
          "model_name": "ButtonModel",
          "state": {
            "_dom_classes": [],
            "_model_module": "@jupyter-widgets/controls",
            "_model_module_version": "1.5.0",
            "_model_name": "ButtonModel",
            "_view_count": null,
            "_view_module": "@jupyter-widgets/controls",
            "_view_module_version": "1.5.0",
            "_view_name": "ButtonView",
            "button_style": "",
            "description": "Login",
            "disabled": false,
            "icon": "",
            "layout": "IPY_MODEL_90581f2e3da14aa9934f5acac72e064c",
            "style": "IPY_MODEL_71a52a32cd704eb2bca60591996ad511",
            "tooltip": ""
          }
        },
        "a46fd967e4dc4583b5452deaf74bcbbf": {
          "model_module": "@jupyter-widgets/base",
          "model_module_version": "1.2.0",
          "model_name": "LayoutModel",
          "state": {
            "_model_module": "@jupyter-widgets/base",
            "_model_module_version": "1.2.0",
            "_model_name": "LayoutModel",
            "_view_count": null,
            "_view_module": "@jupyter-widgets/base",
            "_view_module_version": "1.2.0",
            "_view_name": "LayoutView",
            "align_content": null,
            "align_items": null,
            "align_self": null,
            "border": null,
            "bottom": null,
            "display": null,
            "flex": null,
            "flex_flow": null,
            "grid_area": null,
            "grid_auto_columns": null,
            "grid_auto_flow": null,
            "grid_auto_rows": null,
            "grid_column": null,
            "grid_gap": null,
            "grid_row": null,
            "grid_template_areas": null,
            "grid_template_columns": null,
            "grid_template_rows": null,
            "height": null,
            "justify_content": null,
            "justify_items": null,
            "left": null,
            "margin": null,
            "max_height": null,
            "max_width": null,
            "min_height": null,
            "min_width": null,
            "object_fit": null,
            "object_position": null,
            "order": null,
            "overflow": null,
            "overflow_x": null,
            "overflow_y": null,
            "padding": null,
            "right": null,
            "top": null,
            "visibility": null,
            "width": null
          }
        },
        "a8d5efbff591425ab14c09159cb8977a": {
          "model_module": "@jupyter-widgets/controls",
          "model_module_version": "1.5.0",
          "model_name": "VBoxModel",
          "state": {
            "_dom_classes": [],
            "_model_module": "@jupyter-widgets/controls",
            "_model_module_version": "1.5.0",
            "_model_name": "VBoxModel",
            "_view_count": null,
            "_view_module": "@jupyter-widgets/controls",
            "_view_module_version": "1.5.0",
            "_view_name": "VBoxView",
            "box_style": "",
            "children": [
              "IPY_MODEL_4a6c2dcbbc5343cbac070e9cbcd830ba"
            ],
            "layout": "IPY_MODEL_beea5fbd54e54193a1792412105c2fea"
          }
        },
        "beea5fbd54e54193a1792412105c2fea": {
          "model_module": "@jupyter-widgets/base",
          "model_module_version": "1.2.0",
          "model_name": "LayoutModel",
          "state": {
            "_model_module": "@jupyter-widgets/base",
            "_model_module_version": "1.2.0",
            "_model_name": "LayoutModel",
            "_view_count": null,
            "_view_module": "@jupyter-widgets/base",
            "_view_module_version": "1.2.0",
            "_view_name": "LayoutView",
            "align_content": null,
            "align_items": "center",
            "align_self": null,
            "border": null,
            "bottom": null,
            "display": "flex",
            "flex": null,
            "flex_flow": "column",
            "grid_area": null,
            "grid_auto_columns": null,
            "grid_auto_flow": null,
            "grid_auto_rows": null,
            "grid_column": null,
            "grid_gap": null,
            "grid_row": null,
            "grid_template_areas": null,
            "grid_template_columns": null,
            "grid_template_rows": null,
            "height": null,
            "justify_content": null,
            "justify_items": null,
            "left": null,
            "margin": null,
            "max_height": null,
            "max_width": null,
            "min_height": null,
            "min_width": null,
            "object_fit": null,
            "object_position": null,
            "order": null,
            "overflow": null,
            "overflow_x": null,
            "overflow_y": null,
            "padding": null,
            "right": null,
            "top": null,
            "visibility": null,
            "width": "50%"
          }
        },
        "bf11b1dad39f41268edf7721d989cb62": {
          "model_module": "@jupyter-widgets/controls",
          "model_module_version": "1.5.0",
          "model_name": "DescriptionStyleModel",
          "state": {
            "_model_module": "@jupyter-widgets/controls",
            "_model_module_version": "1.5.0",
            "_model_name": "DescriptionStyleModel",
            "_view_count": null,
            "_view_module": "@jupyter-widgets/base",
            "_view_module_version": "1.2.0",
            "_view_name": "StyleView",
            "description_width": ""
          }
        },
        "cd8f56e9003f4fb5ba90ea093509c9bb": {
          "model_module": "@jupyter-widgets/base",
          "model_module_version": "1.2.0",
          "model_name": "LayoutModel",
          "state": {
            "_model_module": "@jupyter-widgets/base",
            "_model_module_version": "1.2.0",
            "_model_name": "LayoutModel",
            "_view_count": null,
            "_view_module": "@jupyter-widgets/base",
            "_view_module_version": "1.2.0",
            "_view_name": "LayoutView",
            "align_content": null,
            "align_items": null,
            "align_self": null,
            "border": null,
            "bottom": null,
            "display": null,
            "flex": null,
            "flex_flow": null,
            "grid_area": null,
            "grid_auto_columns": null,
            "grid_auto_flow": null,
            "grid_auto_rows": null,
            "grid_column": null,
            "grid_gap": null,
            "grid_row": null,
            "grid_template_areas": null,
            "grid_template_columns": null,
            "grid_template_rows": null,
            "height": null,
            "justify_content": null,
            "justify_items": null,
            "left": null,
            "margin": null,
            "max_height": null,
            "max_width": null,
            "min_height": null,
            "min_width": null,
            "object_fit": null,
            "object_position": null,
            "order": null,
            "overflow": null,
            "overflow_x": null,
            "overflow_y": null,
            "padding": null,
            "right": null,
            "top": null,
            "visibility": null,
            "width": null
          }
        },
        "cff913f36f144babb27e72913ef8d501": {
          "model_module": "@jupyter-widgets/base",
          "model_module_version": "1.2.0",
          "model_name": "LayoutModel",
          "state": {
            "_model_module": "@jupyter-widgets/base",
            "_model_module_version": "1.2.0",
            "_model_name": "LayoutModel",
            "_view_count": null,
            "_view_module": "@jupyter-widgets/base",
            "_view_module_version": "1.2.0",
            "_view_name": "LayoutView",
            "align_content": null,
            "align_items": null,
            "align_self": null,
            "border": null,
            "bottom": null,
            "display": null,
            "flex": null,
            "flex_flow": null,
            "grid_area": null,
            "grid_auto_columns": null,
            "grid_auto_flow": null,
            "grid_auto_rows": null,
            "grid_column": null,
            "grid_gap": null,
            "grid_row": null,
            "grid_template_areas": null,
            "grid_template_columns": null,
            "grid_template_rows": null,
            "height": null,
            "justify_content": null,
            "justify_items": null,
            "left": null,
            "margin": null,
            "max_height": null,
            "max_width": null,
            "min_height": null,
            "min_width": null,
            "object_fit": null,
            "object_position": null,
            "order": null,
            "overflow": null,
            "overflow_x": null,
            "overflow_y": null,
            "padding": null,
            "right": null,
            "top": null,
            "visibility": null,
            "width": null
          }
        },
        "fda4d7fcff674309a0dd5a0f9b01f47b": {
          "model_module": "@jupyter-widgets/controls",
          "model_module_version": "1.5.0",
          "model_name": "PasswordModel",
          "state": {
            "_dom_classes": [],
            "_model_module": "@jupyter-widgets/controls",
            "_model_module_version": "1.5.0",
            "_model_name": "PasswordModel",
            "_view_count": null,
            "_view_module": "@jupyter-widgets/controls",
            "_view_module_version": "1.5.0",
            "_view_name": "PasswordView",
            "continuous_update": true,
            "description": "Token:",
            "description_tooltip": null,
            "disabled": false,
            "layout": "IPY_MODEL_cd8f56e9003f4fb5ba90ea093509c9bb",
            "placeholder": "​",
            "style": "IPY_MODEL_3b38ef3af91c458784d634352a34fcec",
            "value": ""
          }
        },
        "fdabf173b6f2430daad9d34f2edd891e": {
          "model_module": "@jupyter-widgets/controls",
          "model_module_version": "1.5.0",
          "model_name": "DescriptionStyleModel",
          "state": {
            "_model_module": "@jupyter-widgets/controls",
            "_model_module_version": "1.5.0",
            "_model_name": "DescriptionStyleModel",
            "_view_count": null,
            "_view_module": "@jupyter-widgets/base",
            "_view_module_version": "1.2.0",
            "_view_name": "StyleView",
            "description_width": ""
          }
        }
      }
    }
  },
  "nbformat": 4,
  "nbformat_minor": 0
}
